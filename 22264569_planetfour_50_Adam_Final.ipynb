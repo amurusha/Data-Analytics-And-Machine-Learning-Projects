{
  "cells": [
    {
      "cell_type": "markdown",
      "id": "1e4b5617-aa46-4385-9964-a3bac5ae5a15",
      "metadata": {
        "id": "1e4b5617-aa46-4385-9964-a3bac5ae5a15"
      },
      "source": [
        "## Planet four image classification"
      ]
    },
    {
      "cell_type": "code",
      "execution_count": 13,
      "id": "746335e6-87ca-4786-ada5-a042ad526425",
      "metadata": {
        "id": "746335e6-87ca-4786-ada5-a042ad526425"
      },
      "outputs": [],
      "source": [
        "import numpy as np\n",
        "import matplotlib.pyplot as plt\n",
        "import pandas as pd\n",
        "\n",
        "import torch\n",
        "import torch.nn.functional as F\n",
        "import torch.nn as nn\n",
        "import torch.optim as optim\n",
        "import torchvision.transforms as transforms\n",
        "import torchvision.models as models\n",
        "import sklearn.metrics as metrics\n",
        "import tqdm\n",
        "\n",
        "from torch.utils.data import DataLoader\n",
        "from torchvision.datasets.folder import pil_loader\n",
        "from pathlib import Path\n",
        "from PIL import Image\n",
        "from torchvision.models import ResNet50_Weights\n"
      ]
    },
    {
      "cell_type": "code",
      "source": [
        "from google.colab import drive\n",
        "drive.mount('/content/drive')"
      ],
      "metadata": {
        "colab": {
          "base_uri": "https://localhost:8080/"
        },
        "id": "42Ds-tauuEvz",
        "outputId": "01efcb93-3353-45e7-f409-acf76c7c1fdb"
      },
      "id": "42Ds-tauuEvz",
      "execution_count": 2,
      "outputs": [
        {
          "output_type": "stream",
          "name": "stdout",
          "text": [
            "Mounted at /content/drive\n"
          ]
        }
      ]
    },
    {
      "cell_type": "markdown",
      "id": "2c002513-1fe7-4786-88cd-07d35fc0b430",
      "metadata": {
        "id": "2c002513-1fe7-4786-88cd-07d35fc0b430"
      },
      "source": [
        "Change the device to \"cpu\" if you want to train on a CPU instead of a GPU."
      ]
    },
    {
      "cell_type": "code",
      "execution_count": 3,
      "id": "bad120f2-9393-4c57-87a7-8197e9a1245d",
      "metadata": {
        "id": "bad120f2-9393-4c57-87a7-8197e9a1245d"
      },
      "outputs": [],
      "source": [
        "device = 'cuda'"
      ]
    },
    {
      "cell_type": "code",
      "source": [
        "gpu_info = !nvidia-smi\n",
        "gpu_info = '\\n'.join(gpu_info)\n",
        "if gpu_info.find('failed') >= 0:\n",
        "  print('Not connected to a GPU')\n",
        "else:\n",
        "  print(gpu_info)"
      ],
      "metadata": {
        "colab": {
          "base_uri": "https://localhost:8080/"
        },
        "id": "QGca7yFK_xeV",
        "outputId": "1ebfb2d1-cd8e-4e0d-e0d7-a4d38bd5b949"
      },
      "id": "QGca7yFK_xeV",
      "execution_count": 4,
      "outputs": [
        {
          "output_type": "stream",
          "name": "stdout",
          "text": [
            "Sun Dec  4 16:14:33 2022       \n",
            "+-----------------------------------------------------------------------------+\n",
            "| NVIDIA-SMI 460.32.03    Driver Version: 460.32.03    CUDA Version: 11.2     |\n",
            "|-------------------------------+----------------------+----------------------+\n",
            "| GPU  Name        Persistence-M| Bus-Id        Disp.A | Volatile Uncorr. ECC |\n",
            "| Fan  Temp  Perf  Pwr:Usage/Cap|         Memory-Usage | GPU-Util  Compute M. |\n",
            "|                               |                      |               MIG M. |\n",
            "|===============================+======================+======================|\n",
            "|   0  Tesla T4            Off  | 00000000:00:04.0 Off |                    0 |\n",
            "| N/A   54C    P0    26W /  70W |      0MiB / 15109MiB |      0%      Default |\n",
            "|                               |                      |                  N/A |\n",
            "+-------------------------------+----------------------+----------------------+\n",
            "                                                                               \n",
            "+-----------------------------------------------------------------------------+\n",
            "| Processes:                                                                  |\n",
            "|  GPU   GI   CI        PID   Type   Process name                  GPU Memory |\n",
            "|        ID   ID                                                   Usage      |\n",
            "|=============================================================================|\n",
            "|  No running processes found                                                 |\n",
            "+-----------------------------------------------------------------------------+\n"
          ]
        }
      ]
    },
    {
      "cell_type": "code",
      "source": [
        "from psutil import virtual_memory\n",
        "ram_gb = virtual_memory().total / 1e9\n",
        "print('Your runtime has {:.1f} gigabytes of available RAM\\n'.format(ram_gb))\n",
        "\n",
        "if ram_gb < 20:\n",
        "  print('Not using a high-RAM runtime')\n",
        "else:\n",
        "  print('You are using a high-RAM runtime!')"
      ],
      "metadata": {
        "colab": {
          "base_uri": "https://localhost:8080/"
        },
        "id": "JSNp8659_1SE",
        "outputId": "b1143b2c-79c2-4866-b600-745f5b0737da"
      },
      "id": "JSNp8659_1SE",
      "execution_count": 5,
      "outputs": [
        {
          "output_type": "stream",
          "name": "stdout",
          "text": [
            "Your runtime has 27.3 gigabytes of available RAM\n",
            "\n",
            "You are using a high-RAM runtime!\n"
          ]
        }
      ]
    },
    {
      "cell_type": "markdown",
      "id": "837c532e-5cfc-4216-a321-419968407f37",
      "metadata": {
        "id": "837c532e-5cfc-4216-a321-419968407f37"
      },
      "source": [
        "## Dataset\n",
        "\n",
        "Here we define a custom Dataset object for the Planet Four data. You can read more about this in the PyTorch documentation: https://pytorch.org/tutorials/beginner/basics/data_tutorial.html"
      ]
    },
    {
      "cell_type": "code",
      "execution_count": 6,
      "id": "ba9356db-6837-4444-bdab-a4aea56007a9",
      "metadata": {
        "id": "ba9356db-6837-4444-bdab-a4aea56007a9"
      },
      "outputs": [],
      "source": [
        "class PlanetFourDataset(object):\n",
        "    def __init__(self, split='train', transform=None, loader=pil_loader):\n",
        "        super().__init__()\n",
        "        self.split = split\n",
        "        self.base_dir = Path('/content/drive/MyDrive/Planetfour/planetfour')\n",
        "        self.image_dir = self.base_dir / split\n",
        "        self.labels_file = self.base_dir / (split + '.csv')\n",
        "        self.labels_df = pd.read_csv(self.labels_file)\n",
        "        self.transform = transform\n",
        "        self.loader = loader\n",
        "        \n",
        "    def __getitem__(self, index):\n",
        "        row = self.labels_df.iloc[index]\n",
        "        filename = self.image_dir / (row.tile_id + '.jpg')\n",
        "        #print(filename)\n",
        "        fans = int(row.fans)\n",
        "        blotches = int(row.blotches)\n",
        "        image = self.loader(str(filename))\n",
        "        if self.transform is not None:\n",
        "            image = self.transform(image)\n",
        "        return image, torch.tensor([fans, blotches], dtype=torch.float32)\n",
        "    \n",
        "    def __len__(self):\n",
        "        return len(self.labels_df)"
      ]
    },
    {
      "cell_type": "markdown",
      "id": "bb6ef1da-a034-4d88-bbab-64dbce05da6a",
      "metadata": {
        "id": "bb6ef1da-a034-4d88-bbab-64dbce05da6a"
      },
      "source": [
        "## Data augmentation\n",
        "\n",
        "It is standard practice in deep learning to augment the training examples to prevent the network from overfitting. Here I use some standard augmentations such as randomly mirroring the images."
      ]
    },
    {
      "cell_type": "code",
      "execution_count": 7,
      "id": "198239e2-84ff-4e33-a1dd-7b9a18f68d49",
      "metadata": {
        "id": "198239e2-84ff-4e33-a1dd-7b9a18f68d49"
      },
      "outputs": [],
      "source": [
        "train_transform = transforms.Compose([\n",
        "    transforms.RandomHorizontalFlip(),\n",
        "    transforms.ToTensor(),\n",
        "    transforms.Normalize((0.4914, 0.4822, 0.4465), (0.2023, 0.1994, 0.2010))                  \n",
        "])\n",
        "\n",
        "valid_transform = transforms.Compose([\n",
        "    transforms.ToTensor(),\n",
        "    transforms.Normalize((0.4914, 0.4822, 0.4465), (0.2023, 0.1994, 0.2010)) \n",
        "])"
      ]
    },
    {
      "cell_type": "markdown",
      "id": "7d7a5b9c-33a6-4bfc-a699-05f3415de676",
      "metadata": {
        "id": "7d7a5b9c-33a6-4bfc-a699-05f3415de676"
      },
      "source": [
        "## Data loaders\n",
        "\n",
        "In PyTorch, the data loaders take care of spinning up threads to load batches of data into memory from the dataset object."
      ]
    },
    {
      "cell_type": "code",
      "execution_count": 8,
      "id": "f8b2fb4c-e711-49a0-9a21-fb8249972ffc",
      "metadata": {
        "id": "f8b2fb4c-e711-49a0-9a21-fb8249972ffc"
      },
      "outputs": [],
      "source": [
        "train_set = PlanetFourDataset('train', transform=train_transform)\n",
        "valid_set = PlanetFourDataset('valid', transform=train_transform)\n",
        "\n",
        "train_loader = DataLoader(train_set, batch_size=64, shuffle=True)\n",
        "valid_loader = DataLoader(valid_set, batch_size=64, shuffle=False)"
      ]
    },
    {
      "cell_type": "markdown",
      "id": "1bbd1e9b-801b-4da5-975a-6c061b16b005",
      "metadata": {
        "id": "1bbd1e9b-801b-4da5-975a-6c061b16b005"
      },
      "source": [
        "## Load a pretrained model\n",
        "\n",
        "Here we'll use ResNet50 model that has been pretrained on ImageNet and replace the final layer with a new one suited to our problem."
      ]
    },
    {
      "cell_type": "code",
      "execution_count": 21,
      "id": "9e84455f-5c9c-4ccd-a107-bf19e6fec48e",
      "metadata": {
        "id": "9e84455f-5c9c-4ccd-a107-bf19e6fec48e"
      },
      "outputs": [],
      "source": [
        "\n",
        "model = models.resnet50(weights=ResNet50_Weights.DEFAULT)\n",
        "model.fc = nn.Linear(2048, 2)\n",
        "model.to(device);"
      ]
    },
    {
      "cell_type": "markdown",
      "id": "8f3d8cc2-2be4-48e7-aa2e-f35d7a835796",
      "metadata": {
        "id": "8f3d8cc2-2be4-48e7-aa2e-f35d7a835796"
      },
      "source": [
        "## Loss\n",
        "\n",
        "Images can contain fans, blotches, both, or neither. You could treat this as a four class softmax problem, or two binary classification problems. Here I take the latter approach and use a binary cross entropy loss. "
      ]
    },
    {
      "cell_type": "code",
      "execution_count": 15,
      "id": "6729d82b-3a4c-4036-a95d-70695d528bb5",
      "metadata": {
        "id": "6729d82b-3a4c-4036-a95d-70695d528bb5"
      },
      "outputs": [],
      "source": [
        "criterion = nn.BCEWithLogitsLoss()"
      ]
    },
    {
      "cell_type": "markdown",
      "id": "426c8e89-d806-420f-a76c-ab10d1d4e406",
      "metadata": {
        "id": "426c8e89-d806-420f-a76c-ab10d1d4e406"
      },
      "source": [
        "## Optimizer\n",
        "\n",
        "Stochastic gradient descent with momentum"
      ]
    },
    {
      "cell_type": "code",
      "execution_count": 18,
      "id": "8eac8696-3a99-40c1-ab9f-d95971bd1f40",
      "metadata": {
        "id": "8eac8696-3a99-40c1-ab9f-d95971bd1f40"
      },
      "outputs": [],
      "source": [
        "optimizer = optim.Adam(model.parameters(), lr=0.01)"
      ]
    },
    {
      "cell_type": "markdown",
      "id": "d5c709bf-c5cb-433b-b8af-678759182eef",
      "metadata": {
        "id": "d5c709bf-c5cb-433b-b8af-678759182eef"
      },
      "source": [
        "## Training and validation functions"
      ]
    },
    {
      "cell_type": "code",
      "execution_count": 19,
      "id": "26eb5f0c-7b1d-49f1-8682-097d0ae64e54",
      "metadata": {
        "id": "26eb5f0c-7b1d-49f1-8682-097d0ae64e54",
        "colab": {
          "base_uri": "https://localhost:8080/"
        },
        "outputId": "c0834bad-9d43-4b16-ecc4-f6d4b1a2547d"
      },
      "outputs": [
        {
          "output_type": "stream",
          "name": "stdout",
          "text": [
            "trainloss_list =  []\n",
            "validloss_list =  []\n"
          ]
        }
      ],
      "source": [
        "avg_train_losses = []\n",
        "avg_valid_losses = []\n",
        "valid_accuracies = []\n",
        "\n",
        "trainloss_list = []\n",
        "validloss_list = []\n",
        "\n",
        "def make_list(x,y):\n",
        "    trainloss_list.append(x)\n",
        "    validloss_list.append(y)\n",
        "\n",
        "def train_for_epoch(optimizer):\n",
        "    model.train()\n",
        "\n",
        "    train_losses = []\n",
        "\n",
        "    for batch, target in tqdm.tqdm(train_loader):\n",
        "\n",
        "        # data to GPU\n",
        "        batch = batch.to(device)\n",
        "        target = target.to(device)\n",
        "\n",
        "        # reset optimizer\n",
        "        optimizer.zero_grad()\n",
        "\n",
        "        # forward pass\n",
        "        predictions = model(batch)\n",
        "        #breakpoint()\n",
        "\n",
        "        # calculate loss\n",
        "        loss = criterion(predictions, target)\n",
        "\n",
        "        # backward pass\n",
        "        loss.backward()\n",
        "\n",
        "        # parameter update\n",
        "        optimizer.step()\n",
        "\n",
        "        # track loss\n",
        "        train_losses.append(float(loss.item()))\n",
        "\n",
        "    train_losses = np.array(train_losses)\n",
        "    return train_losses\n",
        "\n",
        "\n",
        "def validate():\n",
        "    model.eval()\n",
        "\n",
        "    valid_losses = []\n",
        "    y_true, y_prob = [], []\n",
        "\n",
        "    with torch.no_grad():\n",
        "        for batch, target in valid_loader:\n",
        "\n",
        "            # move data to the device\n",
        "            batch = batch.to(device)\n",
        "            target = target.to(device)\n",
        "\n",
        "            # make predictions\n",
        "            predictions = model(batch)\n",
        "\n",
        "            # calculate loss\n",
        "            loss = criterion(predictions, target)\n",
        "            \n",
        "            # logits -> probabilities\n",
        "            torch.sigmoid_(predictions)\n",
        "\n",
        "            # track losses and predictions\n",
        "            valid_losses.append(float(loss.item()))\n",
        "            y_true.extend(target.cpu().numpy())\n",
        "            y_prob.extend(predictions.cpu().numpy())\n",
        "            \n",
        "    y_true = np.array(y_true)\n",
        "    y_prob = np.array(y_prob)\n",
        "    y_pred = y_prob > 0.5\n",
        "    valid_losses = np.array(valid_losses)\n",
        "\n",
        "    # calculate validation accuracy from y_true and y_pred\n",
        "    fan_accuracy = metrics.accuracy_score(y_true[:,0], y_pred[:,0])\n",
        "    blotch_accuracy = metrics.accuracy_score(y_true[:,1], y_pred[:,1])\n",
        "    exact_accuracy = np.all(y_true == y_pred, axis=1).mean()\n",
        "\n",
        "    # calculate the mean validation loss\n",
        "    valid_loss = valid_losses.mean()\n",
        "\n",
        "    return valid_loss, fan_accuracy, blotch_accuracy, exact_accuracy\n",
        "\n",
        "\n",
        "def train(epochs, first_epoch=1):\n",
        "    for epoch in range(first_epoch, epochs+first_epoch):\n",
        "\n",
        "        # train\n",
        "        train_loss = train_for_epoch(optimizer)\n",
        "\n",
        "        # validation\n",
        "        valid_loss, fan_accuracy, blotch_accuracy, both_accuracy = validate()\n",
        "        print(f'[{epoch:02d}] train loss: {train_loss.mean():0.04f}  '\n",
        "              f'valid loss: {valid_loss:0.04f}  ',\n",
        "              f'fan acc: {fan_accuracy:0.04f}  ',\n",
        "              f'blotch acc: {blotch_accuracy:0.04f}  ',\n",
        "              f'both acc: {both_accuracy:0.04f}'\n",
        "        )\n",
        "        \n",
        "        make_list(train_loss.mean(),valid_loss)\n",
        "       \n",
        "        \n",
        "        # update learning curves\n",
        "        avg_train_losses.append(train_loss.mean())\n",
        "        avg_valid_losses.append(valid_loss)\n",
        "        valid_accuracies.append((fan_accuracy, blotch_accuracy, both_accuracy))\n",
        "\n",
        "print('trainloss_list = ', trainloss_list)\n",
        "print('validloss_list = ', validloss_list)\n",
        "        \n",
        "        # save checkpoint\n",
        "        #torch.save(model, f'checkpoints/baseline_{epoch:03d}.pkl')"
      ]
    },
    {
      "cell_type": "markdown",
      "id": "7b750e3a-4357-420e-b89e-aa1afbd35e2d",
      "metadata": {
        "id": "7b750e3a-4357-420e-b89e-aa1afbd35e2d"
      },
      "source": [
        "## Constant classifier accuracy\n",
        "\n",
        "Evaluate how accurate would a $f(x) = \\text{\"most common class\"}$ classifier be? "
      ]
    },
    {
      "cell_type": "code",
      "execution_count": null,
      "id": "66147496-e69a-4391-89bf-d24d7c797371",
      "metadata": {
        "id": "66147496-e69a-4391-89bf-d24d7c797371"
      },
      "outputs": [],
      "source": [
        "def constant_clf_accuracy():\n",
        "    y_true, y_pred = [], []\n",
        "    with torch.no_grad():\n",
        "        for _, target in valid_loader:\n",
        "            y_true.extend(target.cpu().numpy())\n",
        "            y_pred.extend(np.ones((target.shape[0], 2), dtype=np.float32))\n",
        "            \n",
        "    y_true = np.array(y_true)\n",
        "    y_pred = np.array(y_pred)\n",
        "        \n",
        "    # calculate validation accuracy from y_true and y_pred\n",
        "    f = metrics.accuracy_score(y_true[:,0], y_pred[:,0])\n",
        "    b = metrics.accuracy_score(y_true[:,1], y_pred[:,1])\n",
        "    t = np.all(y_true == y_pred, axis=1).mean()\n",
        "    print(f'fan: {f}  blotch: {b}  both: {t}')"
      ]
    },
    {
      "cell_type": "code",
      "execution_count": null,
      "id": "0148aec5-f941-4499-b107-65bff2ca87c8",
      "metadata": {
        "id": "0148aec5-f941-4499-b107-65bff2ca87c8",
        "colab": {
          "base_uri": "https://localhost:8080/"
        },
        "outputId": "6385bb57-a519-4401-e412-66da6caa2ec6"
      },
      "outputs": [
        {
          "output_type": "stream",
          "name": "stdout",
          "text": [
            "fan: 0.6218644702358667  blotch: 0.8083114938225384  both: 0.4399101460127293\n"
          ]
        }
      ],
      "source": [
        "constant_clf_accuracy()"
      ]
    },
    {
      "cell_type": "markdown",
      "id": "2c698dd8-6e41-4bba-9f77-82ed162a647f",
      "metadata": {
        "id": "2c698dd8-6e41-4bba-9f77-82ed162a647f"
      },
      "source": [
        "## Train the model\n",
        "Call the ``train(n)`` function to train for ``n`` epochs."
      ]
    },
    {
      "cell_type": "code",
      "execution_count": 22,
      "id": "b1baa5b9-b8d7-41c2-8e93-061af75185c4",
      "metadata": {
        "id": "b1baa5b9-b8d7-41c2-8e93-061af75185c4",
        "colab": {
          "base_uri": "https://localhost:8080/"
        },
        "outputId": "56dae7e4-e035-4e40-83ec-1318c985b2bc"
      },
      "outputs": [
        {
          "output_type": "stream",
          "name": "stderr",
          "text": [
            "100%|██████████| 376/376 [5:11:38<00:00, 49.73s/it]\n"
          ]
        },
        {
          "output_type": "stream",
          "name": "stdout",
          "text": [
            "[01] train loss: 0.6746  valid loss: 0.6743   fan acc: 0.4788   blotch acc: 0.6915   both acc: 0.3261\n"
          ]
        },
        {
          "output_type": "stream",
          "name": "stderr",
          "text": [
            "100%|██████████| 376/376 [01:21<00:00,  4.62it/s]\n"
          ]
        },
        {
          "output_type": "stream",
          "name": "stdout",
          "text": [
            "[02] train loss: 0.6748  valid loss: 0.6725   fan acc: 0.4931   blotch acc: 0.6919   both acc: 0.3392\n"
          ]
        },
        {
          "output_type": "stream",
          "name": "stderr",
          "text": [
            "100%|██████████| 376/376 [01:21<00:00,  4.61it/s]\n"
          ]
        },
        {
          "output_type": "stream",
          "name": "stdout",
          "text": [
            "[03] train loss: 0.6751  valid loss: 0.6762   fan acc: 0.4807   blotch acc: 0.6874   both acc: 0.3265\n"
          ]
        },
        {
          "output_type": "stream",
          "name": "stderr",
          "text": [
            "100%|██████████| 376/376 [01:21<00:00,  4.61it/s]\n"
          ]
        },
        {
          "output_type": "stream",
          "name": "stdout",
          "text": [
            "[04] train loss: 0.6745  valid loss: 0.6756   fan acc: 0.4908   blotch acc: 0.6810   both acc: 0.3351\n"
          ]
        },
        {
          "output_type": "stream",
          "name": "stderr",
          "text": [
            "100%|██████████| 376/376 [01:21<00:00,  4.62it/s]\n"
          ]
        },
        {
          "output_type": "stream",
          "name": "stdout",
          "text": [
            "[05] train loss: 0.6738  valid loss: 0.6735   fan acc: 0.4908   blotch acc: 0.7024   both acc: 0.3516\n"
          ]
        }
      ],
      "source": [
        "train(5)"
      ]
    },
    {
      "cell_type": "code",
      "source": [
        "print(trainloss_list)"
      ],
      "metadata": {
        "colab": {
          "base_uri": "https://localhost:8080/"
        },
        "id": "Il62KKkWAEM1",
        "outputId": "3491d4bd-38ab-45ed-e56d-dbd6bceead2e"
      },
      "id": "Il62KKkWAEM1",
      "execution_count": 23,
      "outputs": [
        {
          "output_type": "stream",
          "name": "stdout",
          "text": [
            "[0.6746206645001757, 0.6748070578942907, 0.6750541646429833, 0.6745493248739141, 0.6737981207193212]\n"
          ]
        }
      ]
    },
    {
      "cell_type": "code",
      "source": [
        "print(validloss_list)\n",
        "epoch_list =[1,2,3,4,5]"
      ],
      "metadata": {
        "colab": {
          "base_uri": "https://localhost:8080/"
        },
        "id": "Avqj-MBpAEAs",
        "outputId": "aa02e1cc-45bf-4e82-9812-6bb9e120b80c"
      },
      "id": "Avqj-MBpAEAs",
      "execution_count": 25,
      "outputs": [
        {
          "output_type": "stream",
          "name": "stdout",
          "text": [
            "[0.6743192133449373, 0.6725055802436102, 0.6762110491593679, 0.6756287671270824, 0.6734684237412044]\n"
          ]
        }
      ]
    },
    {
      "cell_type": "code",
      "source": [
        "plt.plot(epoch_list,trainloss_list)\n",
        "plt.plot(epoch_list,validloss_list)\n",
        "plt.xticks(epoch_list)\n",
        "plt.xlabel(\"EPOCHS\")\n",
        "plt.ylabel(\"Losses\")\n",
        "plt.show()"
      ],
      "metadata": {
        "id": "mBlH0gGfwdyf",
        "colab": {
          "base_uri": "https://localhost:8080/",
          "height": 279
        },
        "outputId": "b795ccab-a131-45ea-ef59-6d63aa5d0798"
      },
      "id": "mBlH0gGfwdyf",
      "execution_count": 26,
      "outputs": [
        {
          "output_type": "display_data",
          "data": {
            "text/plain": [
              "<Figure size 432x288 with 1 Axes>"
            ],
            "image/png": "[encoded data removed]"
          },
          "metadata": {
            "needs_background": "light"
          }
        }
      ]
    }
  ],
  "metadata": {
    "kernelspec": {
      "display_name": "Python 3",
      "language": "python",
      "name": "python3"
    },
    "language_info": {
      "codemirror_mode": {
        "name": "ipython",
        "version": 3
      },
      "file_extension": ".py",
      "mimetype": "text/x-python",
      "name": "python",
      "nbconvert_exporter": "python",
      "pygments_lexer": "ipython3",
      "version": "3.8.5"
    },
    "colab": {
      "provenance": [],
      "machine_shape": "hm"
    },
    "accelerator": "GPU",
    "gpuClass": "standard"
  },
  "nbformat": 4,
  "nbformat_minor": 5
}