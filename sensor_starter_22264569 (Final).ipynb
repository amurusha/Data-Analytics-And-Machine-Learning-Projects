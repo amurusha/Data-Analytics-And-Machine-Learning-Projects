{
 "cells": [
  {
   "cell_type": "markdown",
   "id": "25a9a279-b47d-44aa-9ea9-d10253667c88",
   "metadata": {},
   "source": [
    "# EE514 assignment part 1 starter code\n",
    "\n",
    "Using sensors to predict activity. This part of the assignment uses the [ExtraSensory dataset](http://extrasensory.ucsd.edu/). You can download the dataset from [here](http://extrasensory.ucsd.edu/data/primary_data_files/ExtraSensory.per_uuid_features_labels.zip). The starter code expects that this dataset has been unpacked in a folder called `data` that is in the same parent folder as this notebook. You can read more about the dataset in [this README file](http://extrasensory.ucsd.edu/data/primary_data_files/README.txt)."
   ]
  },
  {
   "cell_type": "code",
   "execution_count": 282,
   "id": "897648f7-43a4-4217-83a8-cb22bbc54e3d",
   "metadata": {},
   "outputs": [],
   "source": [
    "import pandas as pd\n",
    "import numpy as np\n",
    "from pathlib import Path\n",
    "import sklearn.metrics as metrics\n",
    "import matplotlib.pyplot as plt\n",
    "import statistics\n",
    "import csv\n",
    "\n",
    "from sklearn.linear_model import LogisticRegression\n",
    "from sklearn.preprocessing import StandardScaler\n",
    "from sklearn.impute import SimpleImputer\n",
    "from sklearn.metrics import classification_report"
   ]
  },
  {
   "cell_type": "markdown",
   "id": "f02ea934-d263-4dc9-965b-fa4d4ae3e977",
   "metadata": {},
   "source": [
    "## Location of the .csv.gz files"
   ]
  },
  {
   "cell_type": "code",
   "execution_count": 283,
   "id": "55c960ee-84f2-4b30-90c0-0171abb043f6",
   "metadata": {},
   "outputs": [],
   "source": [
    "data_dir = 'C:/Users/amuru/OneDrive/Documents/Assignment/Data'\n"
   ]
  },
  {
   "cell_type": "markdown",
   "id": "8d941e9d-540a-4bf1-a98f-4bd36cb502b2",
   "metadata": {},
   "source": [
    "## Some utility functions\n",
    "\n",
    "The first one loads a pandas dataframe given a user UUID. The second one extracts specified feature columns $X$ and target column $y$ from a dataframe and converts these to numpy."
   ]
  },
  {
   "cell_type": "code",
   "execution_count": 284,
   "id": "5375caaf-5b51-42a9-a746-d585a7831c3a",
   "metadata": {},
   "outputs": [],
   "source": [
    "def load_data_for_user(uuid):\n",
    "    return pd.read_csv(data_dir + '/' + (uuid + '.features_labels.csv'))\n",
    "\n",
    "def get_features_and_target(df, feature_names, target_name):\n",
    "    \n",
    "    # select out features and target columns and convert to numpy\n",
    "    X = df[feature_names].to_numpy()\n",
    "    y = df[target_name].to_numpy()\n",
    "    \n",
    "    # remove examples with no label\n",
    "    has_label = ~np.isnan(y)\n",
    "    X = X[has_label,:]\n",
    "    y = y[has_label]\n",
    "    return X, y"
   ]
  },
  {
   "cell_type": "markdown",
   "id": "905d5f3a-7eb3-4723-aff7-73f031acaea0",
   "metadata": {},
   "source": [
    "## Load in some data \n",
    "Load in the data for a user and display the first few rows of the dataframe"
   ]
  },
  {
   "cell_type": "code",
   "execution_count": 285,
   "id": "17270baa-1152-4d01-91b8-0f9fe8a2f779",
   "metadata": {},
   "outputs": [
    {
     "data": {
      "text/html": [
       "<div>\n",
       "<style scoped>\n",
       "    .dataframe tbody tr th:only-of-type {\n",
       "        vertical-align: middle;\n",
       "    }\n",
       "\n",
       "    .dataframe tbody tr th {\n",
       "        vertical-align: top;\n",
       "    }\n",
       "\n",
       "    .dataframe thead th {\n",
       "        text-align: right;\n",
       "    }\n",
       "</style>\n",
       "<table border=\"1\" class=\"dataframe\">\n",
       "  <thead>\n",
       "    <tr style=\"text-align: right;\">\n",
       "      <th></th>\n",
       "      <th>timestamp</th>\n",
       "      <th>raw_acc:magnitude_stats:mean</th>\n",
       "      <th>raw_acc:magnitude_stats:std</th>\n",
       "      <th>raw_acc:magnitude_stats:moment3</th>\n",
       "      <th>raw_acc:magnitude_stats:moment4</th>\n",
       "      <th>raw_acc:magnitude_stats:percentile25</th>\n",
       "      <th>raw_acc:magnitude_stats:percentile50</th>\n",
       "      <th>raw_acc:magnitude_stats:percentile75</th>\n",
       "      <th>raw_acc:magnitude_stats:value_entropy</th>\n",
       "      <th>raw_acc:magnitude_stats:time_entropy</th>\n",
       "      <th>...</th>\n",
       "      <th>label:STAIRS_-_GOING_DOWN</th>\n",
       "      <th>label:ELEVATOR</th>\n",
       "      <th>label:OR_standing</th>\n",
       "      <th>label:AT_SCHOOL</th>\n",
       "      <th>label:PHONE_IN_HAND</th>\n",
       "      <th>label:PHONE_IN_BAG</th>\n",
       "      <th>label:PHONE_ON_TABLE</th>\n",
       "      <th>label:WITH_CO-WORKERS</th>\n",
       "      <th>label:WITH_FRIENDS</th>\n",
       "      <th>label_source</th>\n",
       "    </tr>\n",
       "  </thead>\n",
       "  <tbody>\n",
       "    <tr>\n",
       "      <th>0</th>\n",
       "      <td>1464129912</td>\n",
       "      <td>1.011438</td>\n",
       "      <td>0.012573</td>\n",
       "      <td>0.023013</td>\n",
       "      <td>0.041240</td>\n",
       "      <td>1.006184</td>\n",
       "      <td>1.010868</td>\n",
       "      <td>1.016028</td>\n",
       "      <td>0.935099</td>\n",
       "      <td>6.684536</td>\n",
       "      <td>...</td>\n",
       "      <td>0.0</td>\n",
       "      <td>NaN</td>\n",
       "      <td>0.0</td>\n",
       "      <td>0.0</td>\n",
       "      <td>NaN</td>\n",
       "      <td>NaN</td>\n",
       "      <td>NaN</td>\n",
       "      <td>1.0</td>\n",
       "      <td>0.0</td>\n",
       "      <td>2</td>\n",
       "    </tr>\n",
       "    <tr>\n",
       "      <th>1</th>\n",
       "      <td>1464129950</td>\n",
       "      <td>1.011233</td>\n",
       "      <td>0.009356</td>\n",
       "      <td>-0.005622</td>\n",
       "      <td>0.016687</td>\n",
       "      <td>1.006338</td>\n",
       "      <td>1.010926</td>\n",
       "      <td>1.016657</td>\n",
       "      <td>1.732968</td>\n",
       "      <td>6.684569</td>\n",
       "      <td>...</td>\n",
       "      <td>0.0</td>\n",
       "      <td>NaN</td>\n",
       "      <td>0.0</td>\n",
       "      <td>0.0</td>\n",
       "      <td>NaN</td>\n",
       "      <td>NaN</td>\n",
       "      <td>NaN</td>\n",
       "      <td>1.0</td>\n",
       "      <td>0.0</td>\n",
       "      <td>2</td>\n",
       "    </tr>\n",
       "    <tr>\n",
       "      <th>2</th>\n",
       "      <td>1464130031</td>\n",
       "      <td>1.013422</td>\n",
       "      <td>0.018068</td>\n",
       "      <td>-0.008593</td>\n",
       "      <td>0.039286</td>\n",
       "      <td>1.004077</td>\n",
       "      <td>1.012983</td>\n",
       "      <td>1.021926</td>\n",
       "      <td>1.464639</td>\n",
       "      <td>6.684453</td>\n",
       "      <td>...</td>\n",
       "      <td>0.0</td>\n",
       "      <td>NaN</td>\n",
       "      <td>0.0</td>\n",
       "      <td>0.0</td>\n",
       "      <td>NaN</td>\n",
       "      <td>NaN</td>\n",
       "      <td>NaN</td>\n",
       "      <td>1.0</td>\n",
       "      <td>0.0</td>\n",
       "      <td>2</td>\n",
       "    </tr>\n",
       "    <tr>\n",
       "      <th>3</th>\n",
       "      <td>1464130109</td>\n",
       "      <td>1.014891</td>\n",
       "      <td>0.016400</td>\n",
       "      <td>0.021383</td>\n",
       "      <td>0.038825</td>\n",
       "      <td>1.005934</td>\n",
       "      <td>1.014670</td>\n",
       "      <td>1.023000</td>\n",
       "      <td>1.440043</td>\n",
       "      <td>6.684483</td>\n",
       "      <td>...</td>\n",
       "      <td>0.0</td>\n",
       "      <td>NaN</td>\n",
       "      <td>0.0</td>\n",
       "      <td>0.0</td>\n",
       "      <td>NaN</td>\n",
       "      <td>NaN</td>\n",
       "      <td>NaN</td>\n",
       "      <td>1.0</td>\n",
       "      <td>0.0</td>\n",
       "      <td>2</td>\n",
       "    </tr>\n",
       "    <tr>\n",
       "      <th>4</th>\n",
       "      <td>1464130130</td>\n",
       "      <td>1.017487</td>\n",
       "      <td>0.022632</td>\n",
       "      <td>-0.012891</td>\n",
       "      <td>0.037226</td>\n",
       "      <td>1.006040</td>\n",
       "      <td>1.017587</td>\n",
       "      <td>1.028168</td>\n",
       "      <td>1.937362</td>\n",
       "      <td>6.684364</td>\n",
       "      <td>...</td>\n",
       "      <td>0.0</td>\n",
       "      <td>NaN</td>\n",
       "      <td>0.0</td>\n",
       "      <td>0.0</td>\n",
       "      <td>NaN</td>\n",
       "      <td>NaN</td>\n",
       "      <td>NaN</td>\n",
       "      <td>1.0</td>\n",
       "      <td>0.0</td>\n",
       "      <td>2</td>\n",
       "    </tr>\n",
       "  </tbody>\n",
       "</table>\n",
       "<p>5 rows × 278 columns</p>\n",
       "</div>"
      ],
      "text/plain": [
       "    timestamp  raw_acc:magnitude_stats:mean  raw_acc:magnitude_stats:std  \\\n",
       "0  1464129912                      1.011438                     0.012573   \n",
       "1  1464129950                      1.011233                     0.009356   \n",
       "2  1464130031                      1.013422                     0.018068   \n",
       "3  1464130109                      1.014891                     0.016400   \n",
       "4  1464130130                      1.017487                     0.022632   \n",
       "\n",
       "   raw_acc:magnitude_stats:moment3  raw_acc:magnitude_stats:moment4  \\\n",
       "0                         0.023013                         0.041240   \n",
       "1                        -0.005622                         0.016687   \n",
       "2                        -0.008593                         0.039286   \n",
       "3                         0.021383                         0.038825   \n",
       "4                        -0.012891                         0.037226   \n",
       "\n",
       "   raw_acc:magnitude_stats:percentile25  raw_acc:magnitude_stats:percentile50  \\\n",
       "0                              1.006184                              1.010868   \n",
       "1                              1.006338                              1.010926   \n",
       "2                              1.004077                              1.012983   \n",
       "3                              1.005934                              1.014670   \n",
       "4                              1.006040                              1.017587   \n",
       "\n",
       "   raw_acc:magnitude_stats:percentile75  \\\n",
       "0                              1.016028   \n",
       "1                              1.016657   \n",
       "2                              1.021926   \n",
       "3                              1.023000   \n",
       "4                              1.028168   \n",
       "\n",
       "   raw_acc:magnitude_stats:value_entropy  \\\n",
       "0                               0.935099   \n",
       "1                               1.732968   \n",
       "2                               1.464639   \n",
       "3                               1.440043   \n",
       "4                               1.937362   \n",
       "\n",
       "   raw_acc:magnitude_stats:time_entropy  ...  label:STAIRS_-_GOING_DOWN  \\\n",
       "0                              6.684536  ...                        0.0   \n",
       "1                              6.684569  ...                        0.0   \n",
       "2                              6.684453  ...                        0.0   \n",
       "3                              6.684483  ...                        0.0   \n",
       "4                              6.684364  ...                        0.0   \n",
       "\n",
       "   label:ELEVATOR  label:OR_standing  label:AT_SCHOOL  label:PHONE_IN_HAND  \\\n",
       "0             NaN                0.0              0.0                  NaN   \n",
       "1             NaN                0.0              0.0                  NaN   \n",
       "2             NaN                0.0              0.0                  NaN   \n",
       "3             NaN                0.0              0.0                  NaN   \n",
       "4             NaN                0.0              0.0                  NaN   \n",
       "\n",
       "   label:PHONE_IN_BAG  label:PHONE_ON_TABLE  label:WITH_CO-WORKERS  \\\n",
       "0                 NaN                   NaN                    1.0   \n",
       "1                 NaN                   NaN                    1.0   \n",
       "2                 NaN                   NaN                    1.0   \n",
       "3                 NaN                   NaN                    1.0   \n",
       "4                 NaN                   NaN                    1.0   \n",
       "\n",
       "   label:WITH_FRIENDS  label_source  \n",
       "0                 0.0             2  \n",
       "1                 0.0             2  \n",
       "2                 0.0             2  \n",
       "3                 0.0             2  \n",
       "4                 0.0             2  \n",
       "\n",
       "[5 rows x 278 columns]"
      ]
     },
     "execution_count": 285,
     "metadata": {},
     "output_type": "execute_result"
    }
   ],
   "source": [
    "df = load_data_for_user('1155FF54-63D3-4AB2-9863-8385D0BD0A13')\n",
    "df.head()"
   ]
  },
  {
   "cell_type": "markdown",
   "id": "5fd70239-1295-485d-a9e8-16f6d441e818",
   "metadata": {},
   "source": [
    "## What columns are available?"
   ]
  },
  {
   "cell_type": "code",
   "execution_count": 286,
   "id": "dc216774-2ce2-42c4-afdb-fcd8d7a78402",
   "metadata": {},
   "outputs": [
    {
     "name": "stdout",
     "output_type": "stream",
     "text": [
      "['timestamp', 'raw_acc:magnitude_stats:mean', 'raw_acc:magnitude_stats:std', 'raw_acc:magnitude_stats:moment3', 'raw_acc:magnitude_stats:moment4', 'raw_acc:magnitude_stats:percentile25', 'raw_acc:magnitude_stats:percentile50', 'raw_acc:magnitude_stats:percentile75', 'raw_acc:magnitude_stats:value_entropy', 'raw_acc:magnitude_stats:time_entropy', 'raw_acc:magnitude_spectrum:log_energy_band0', 'raw_acc:magnitude_spectrum:log_energy_band1', 'raw_acc:magnitude_spectrum:log_energy_band2', 'raw_acc:magnitude_spectrum:log_energy_band3', 'raw_acc:magnitude_spectrum:log_energy_band4', 'raw_acc:magnitude_spectrum:spectral_entropy', 'raw_acc:magnitude_autocorrelation:period', 'raw_acc:magnitude_autocorrelation:normalized_ac', 'raw_acc:3d:mean_x', 'raw_acc:3d:mean_y', 'raw_acc:3d:mean_z', 'raw_acc:3d:std_x', 'raw_acc:3d:std_y', 'raw_acc:3d:std_z', 'raw_acc:3d:ro_xy', 'raw_acc:3d:ro_xz', 'raw_acc:3d:ro_yz', 'proc_gyro:magnitude_stats:mean', 'proc_gyro:magnitude_stats:std', 'proc_gyro:magnitude_stats:moment3', 'proc_gyro:magnitude_stats:moment4', 'proc_gyro:magnitude_stats:percentile25', 'proc_gyro:magnitude_stats:percentile50', 'proc_gyro:magnitude_stats:percentile75', 'proc_gyro:magnitude_stats:value_entropy', 'proc_gyro:magnitude_stats:time_entropy', 'proc_gyro:magnitude_spectrum:log_energy_band0', 'proc_gyro:magnitude_spectrum:log_energy_band1', 'proc_gyro:magnitude_spectrum:log_energy_band2', 'proc_gyro:magnitude_spectrum:log_energy_band3', 'proc_gyro:magnitude_spectrum:log_energy_band4', 'proc_gyro:magnitude_spectrum:spectral_entropy', 'proc_gyro:magnitude_autocorrelation:period', 'proc_gyro:magnitude_autocorrelation:normalized_ac', 'proc_gyro:3d:mean_x', 'proc_gyro:3d:mean_y', 'proc_gyro:3d:mean_z', 'proc_gyro:3d:std_x', 'proc_gyro:3d:std_y', 'proc_gyro:3d:std_z', 'proc_gyro:3d:ro_xy', 'proc_gyro:3d:ro_xz', 'proc_gyro:3d:ro_yz', 'raw_magnet:magnitude_stats:mean', 'raw_magnet:magnitude_stats:std', 'raw_magnet:magnitude_stats:moment3', 'raw_magnet:magnitude_stats:moment4', 'raw_magnet:magnitude_stats:percentile25', 'raw_magnet:magnitude_stats:percentile50', 'raw_magnet:magnitude_stats:percentile75', 'raw_magnet:magnitude_stats:value_entropy', 'raw_magnet:magnitude_stats:time_entropy', 'raw_magnet:magnitude_spectrum:log_energy_band0', 'raw_magnet:magnitude_spectrum:log_energy_band1', 'raw_magnet:magnitude_spectrum:log_energy_band2', 'raw_magnet:magnitude_spectrum:log_energy_band3', 'raw_magnet:magnitude_spectrum:log_energy_band4', 'raw_magnet:magnitude_spectrum:spectral_entropy', 'raw_magnet:magnitude_autocorrelation:period', 'raw_magnet:magnitude_autocorrelation:normalized_ac', 'raw_magnet:3d:mean_x', 'raw_magnet:3d:mean_y', 'raw_magnet:3d:mean_z', 'raw_magnet:3d:std_x', 'raw_magnet:3d:std_y', 'raw_magnet:3d:std_z', 'raw_magnet:3d:ro_xy', 'raw_magnet:3d:ro_xz', 'raw_magnet:3d:ro_yz', 'raw_magnet:avr_cosine_similarity_lag_range0', 'raw_magnet:avr_cosine_similarity_lag_range1', 'raw_magnet:avr_cosine_similarity_lag_range2', 'raw_magnet:avr_cosine_similarity_lag_range3', 'raw_magnet:avr_cosine_similarity_lag_range4', 'watch_acceleration:magnitude_stats:mean', 'watch_acceleration:magnitude_stats:std', 'watch_acceleration:magnitude_stats:moment3', 'watch_acceleration:magnitude_stats:moment4', 'watch_acceleration:magnitude_stats:percentile25', 'watch_acceleration:magnitude_stats:percentile50', 'watch_acceleration:magnitude_stats:percentile75', 'watch_acceleration:magnitude_stats:value_entropy', 'watch_acceleration:magnitude_stats:time_entropy', 'watch_acceleration:magnitude_spectrum:log_energy_band0', 'watch_acceleration:magnitude_spectrum:log_energy_band1', 'watch_acceleration:magnitude_spectrum:log_energy_band2', 'watch_acceleration:magnitude_spectrum:log_energy_band3', 'watch_acceleration:magnitude_spectrum:log_energy_band4', 'watch_acceleration:magnitude_spectrum:spectral_entropy', 'watch_acceleration:magnitude_autocorrelation:period', 'watch_acceleration:magnitude_autocorrelation:normalized_ac', 'watch_acceleration:3d:mean_x', 'watch_acceleration:3d:mean_y', 'watch_acceleration:3d:mean_z', 'watch_acceleration:3d:std_x', 'watch_acceleration:3d:std_y', 'watch_acceleration:3d:std_z', 'watch_acceleration:3d:ro_xy', 'watch_acceleration:3d:ro_xz', 'watch_acceleration:3d:ro_yz', 'watch_acceleration:spectrum:x_log_energy_band0', 'watch_acceleration:spectrum:x_log_energy_band1', 'watch_acceleration:spectrum:x_log_energy_band2', 'watch_acceleration:spectrum:x_log_energy_band3', 'watch_acceleration:spectrum:x_log_energy_band4', 'watch_acceleration:spectrum:y_log_energy_band0', 'watch_acceleration:spectrum:y_log_energy_band1', 'watch_acceleration:spectrum:y_log_energy_band2', 'watch_acceleration:spectrum:y_log_energy_band3', 'watch_acceleration:spectrum:y_log_energy_band4', 'watch_acceleration:spectrum:z_log_energy_band0', 'watch_acceleration:spectrum:z_log_energy_band1', 'watch_acceleration:spectrum:z_log_energy_band2', 'watch_acceleration:spectrum:z_log_energy_band3', 'watch_acceleration:spectrum:z_log_energy_band4', 'watch_acceleration:relative_directions:avr_cosine_similarity_lag_range0', 'watch_acceleration:relative_directions:avr_cosine_similarity_lag_range1', 'watch_acceleration:relative_directions:avr_cosine_similarity_lag_range2', 'watch_acceleration:relative_directions:avr_cosine_similarity_lag_range3', 'watch_acceleration:relative_directions:avr_cosine_similarity_lag_range4', 'watch_heading:mean_cos', 'watch_heading:std_cos', 'watch_heading:mom3_cos', 'watch_heading:mom4_cos', 'watch_heading:mean_sin', 'watch_heading:std_sin', 'watch_heading:mom3_sin', 'watch_heading:mom4_sin', 'watch_heading:entropy_8bins', 'location:num_valid_updates', 'location:log_latitude_range', 'location:log_longitude_range', 'location:min_altitude', 'location:max_altitude', 'location:min_speed', 'location:max_speed', 'location:best_horizontal_accuracy', 'location:best_vertical_accuracy', 'location:diameter', 'location:log_diameter', 'location_quick_features:std_lat', 'location_quick_features:std_long', 'location_quick_features:lat_change', 'location_quick_features:long_change', 'location_quick_features:mean_abs_lat_deriv', 'location_quick_features:mean_abs_long_deriv', 'audio_naive:mfcc0:mean', 'audio_naive:mfcc1:mean', 'audio_naive:mfcc2:mean', 'audio_naive:mfcc3:mean', 'audio_naive:mfcc4:mean', 'audio_naive:mfcc5:mean', 'audio_naive:mfcc6:mean', 'audio_naive:mfcc7:mean', 'audio_naive:mfcc8:mean', 'audio_naive:mfcc9:mean', 'audio_naive:mfcc10:mean', 'audio_naive:mfcc11:mean', 'audio_naive:mfcc12:mean', 'audio_naive:mfcc0:std', 'audio_naive:mfcc1:std', 'audio_naive:mfcc2:std', 'audio_naive:mfcc3:std', 'audio_naive:mfcc4:std', 'audio_naive:mfcc5:std', 'audio_naive:mfcc6:std', 'audio_naive:mfcc7:std', 'audio_naive:mfcc8:std', 'audio_naive:mfcc9:std', 'audio_naive:mfcc10:std', 'audio_naive:mfcc11:std', 'audio_naive:mfcc12:std', 'audio_properties:max_abs_value', 'audio_properties:normalization_multiplier', 'discrete:app_state:is_active', 'discrete:app_state:is_inactive', 'discrete:app_state:is_background', 'discrete:app_state:missing', 'discrete:battery_plugged:is_ac', 'discrete:battery_plugged:is_usb', 'discrete:battery_plugged:is_wireless', 'discrete:battery_plugged:missing', 'discrete:battery_state:is_unknown', 'discrete:battery_state:is_unplugged', 'discrete:battery_state:is_not_charging', 'discrete:battery_state:is_discharging', 'discrete:battery_state:is_charging', 'discrete:battery_state:is_full', 'discrete:battery_state:missing', 'discrete:on_the_phone:is_False', 'discrete:on_the_phone:is_True', 'discrete:on_the_phone:missing', 'discrete:ringer_mode:is_normal', 'discrete:ringer_mode:is_silent_no_vibrate', 'discrete:ringer_mode:is_silent_with_vibrate', 'discrete:ringer_mode:missing', 'discrete:wifi_status:is_not_reachable', 'discrete:wifi_status:is_reachable_via_wifi', 'discrete:wifi_status:is_reachable_via_wwan', 'discrete:wifi_status:missing', 'lf_measurements:light', 'lf_measurements:pressure', 'lf_measurements:proximity_cm', 'lf_measurements:proximity', 'lf_measurements:relative_humidity', 'lf_measurements:battery_level', 'lf_measurements:screen_brightness', 'lf_measurements:temperature_ambient', 'discrete:time_of_day:between0and6', 'discrete:time_of_day:between3and9', 'discrete:time_of_day:between6and12', 'discrete:time_of_day:between9and15', 'discrete:time_of_day:between12and18', 'discrete:time_of_day:between15and21', 'discrete:time_of_day:between18and24', 'discrete:time_of_day:between21and3', 'label:LYING_DOWN', 'label:SITTING', 'label:FIX_walking', 'label:FIX_running', 'label:BICYCLING', 'label:SLEEPING', 'label:LAB_WORK', 'label:IN_CLASS', 'label:IN_A_MEETING', 'label:LOC_main_workplace', 'label:OR_indoors', 'label:OR_outside', 'label:IN_A_CAR', 'label:ON_A_BUS', 'label:DRIVE_-_I_M_THE_DRIVER', 'label:DRIVE_-_I_M_A_PASSENGER', 'label:LOC_home', 'label:FIX_restaurant', 'label:PHONE_IN_POCKET', 'label:OR_exercise', 'label:COOKING', 'label:SHOPPING', 'label:STROLLING', 'label:DRINKING__ALCOHOL_', 'label:BATHING_-_SHOWER', 'label:CLEANING', 'label:DOING_LAUNDRY', 'label:WASHING_DISHES', 'label:WATCHING_TV', 'label:SURFING_THE_INTERNET', 'label:AT_A_PARTY', 'label:AT_A_BAR', 'label:LOC_beach', 'label:SINGING', 'label:TALKING', 'label:COMPUTER_WORK', 'label:EATING', 'label:TOILET', 'label:GROOMING', 'label:DRESSING', 'label:AT_THE_GYM', 'label:STAIRS_-_GOING_UP', 'label:STAIRS_-_GOING_DOWN', 'label:ELEVATOR', 'label:OR_standing', 'label:AT_SCHOOL', 'label:PHONE_IN_HAND', 'label:PHONE_IN_BAG', 'label:PHONE_ON_TABLE', 'label:WITH_CO-WORKERS', 'label:WITH_FRIENDS', 'label_source']\n"
     ]
    }
   ],
   "source": [
    "print(df.columns.to_list())"
   ]
  },
  {
   "cell_type": "markdown",
   "id": "a028999e-a767-4df7-a0ba-d510acc436cc",
   "metadata": {},
   "source": [
    "## Feature selection"
   ]
  },
  {
   "cell_type": "markdown",
   "id": "95728052-40a5-47bd-a675-9cfd341792cf",
   "metadata": {},
   "source": [
    "The columns that start with `label:` correspond to potential y values. Let's look at using the accelerometer features. These start with `raw_acc:` and `watch_acceleration:`"
   ]
  },
  {
   "cell_type": "code",
   "execution_count": 287,
   "id": "cd1e3a64-26ea-418a-86b4-3fbb49dabf27",
   "metadata": {},
   "outputs": [],
   "source": [
    "acc_sensors = [s for s in df.columns if \n",
    "               s.startswith('raw_acc:') or \n",
    "               s.startswith('watch_acceleration:')]\n",
    "\n",
    "target_column = 'label:FIX_walking'"
   ]
  },
  {
   "cell_type": "markdown",
   "id": "2bf2f4ff-f7f0-4b1a-9323-12cba433f698",
   "metadata": {},
   "source": [
    "## Extract our training data"
   ]
  },
  {
   "cell_type": "code",
   "execution_count": 288,
   "id": "7b247579-c2e8-44e8-b6de-d149a53fe146",
   "metadata": {},
   "outputs": [
    {
     "name": "stdout",
     "output_type": "stream",
     "text": [
      "2681 examples with 158.0 positives\n"
     ]
    }
   ],
   "source": [
    "X_train, y_train = get_features_and_target(df, acc_sensors, target_column)\n",
    "print(f'{y_train.shape[0]} examples with {y_train.sum()} positives')"
   ]
  },
  {
   "cell_type": "markdown",
   "id": "19f1be31-21e2-4dcc-9f26-97966a180c7c",
   "metadata": {},
   "source": [
    "## Preprocessing\n",
    "\n",
    "We want to make the learning problem easier by making all columns have a mean of zero and a standard deviation of one. There are also lots of missing values in this dataset. We'll use mean imputation here to get rid of them. Since our data is scaled to have zero mean, this will just zero out missing values."
   ]
  },
  {
   "cell_type": "code",
   "execution_count": 289,
   "id": "40b18483-3349-492f-a210-d6bbba28af7d",
   "metadata": {},
   "outputs": [],
   "source": [
    "scaler = StandardScaler()\n",
    "imputer = SimpleImputer(strategy='mean')\n",
    "\n",
    "X_train = scaler.fit_transform(X_train)\n",
    "X_train = imputer.fit_transform(X_train)"
   ]
  },
  {
   "cell_type": "markdown",
   "id": "dbabbdb5-cf29-439a-9abc-4ea4eabd2b58",
   "metadata": {},
   "source": [
    "## Fitting a model\n",
    "Let's fit a logistic regression model to this user. We can then test it's predictive power on a different user"
   ]
  },
  {
   "cell_type": "code",
   "execution_count": 290,
   "id": "68b6ef15-a0e8-4114-a4b9-328fbc242dbb",
   "metadata": {},
   "outputs": [
    {
     "data": {
      "text/plain": [
       "LogisticRegression(max_iter=1000, solver='liblinear')"
      ]
     },
     "execution_count": 290,
     "metadata": {},
     "output_type": "execute_result"
    }
   ],
   "source": [
    "clf = LogisticRegression(solver='liblinear', max_iter=1000, C=1.0)\n",
    "clf.fit(X_train, y_train)"
   ]
  },
  {
   "cell_type": "markdown",
   "id": "bea7fe9a-c494-446c-b28f-3a80abe4839f",
   "metadata": {},
   "source": [
    "## Training accuracy\n",
    "\n",
    "Let's see the accuracy on the training set. The score function can be used to do this:"
   ]
  },
  {
   "cell_type": "code",
   "execution_count": 291,
   "id": "96f2510f-5c11-45dd-9792-457e250c90a6",
   "metadata": {},
   "outputs": [
    {
     "name": "stdout",
     "output_type": "stream",
     "text": [
      "Training accuracy: 0.9750\n"
     ]
    }
   ],
   "source": [
    "print(f'Training accuracy: {clf.score(X_train, y_train):0.4f}')"
   ]
  },
  {
   "cell_type": "markdown",
   "id": "6bb920a4-8df8-491a-927d-24989079231a",
   "metadata": {},
   "source": [
    "Looks like the model can fit the training data reasonably well anyway. But this says nothing about how well it will generalize to new data. The dataset is also unbalanced, so this figure may be misleading. How accurate would we be if we just predicted zero each time?"
   ]
  },
  {
   "cell_type": "code",
   "execution_count": 292,
   "id": "2577d894-2528-4095-ae14-91bed84de656",
   "metadata": {},
   "outputs": [
    {
     "data": {
      "text/plain": [
       "0.9410667661320403"
      ]
     },
     "execution_count": 292,
     "metadata": {},
     "output_type": "execute_result"
    }
   ],
   "source": [
    "1 - y_train.sum() / y_train.shape[0]"
   ]
  },
  {
   "cell_type": "markdown",
   "id": "e932f3b5-f84a-4bf3-adaa-73de83676362",
   "metadata": {},
   "source": [
    "Oh wow. Our model may not be that great after all. Let's try to calculate balanced accuracy, which should better reflect how well the model does on the training data"
   ]
  },
  {
   "cell_type": "code",
   "execution_count": 293,
   "id": "c6b817c4-971e-45ed-846f-f7fd9e0c9283",
   "metadata": {},
   "outputs": [
    {
     "name": "stdout",
     "output_type": "stream",
     "text": [
      "Balanced accuracy (train): 0.8354\n"
     ]
    }
   ],
   "source": [
    "y_pred = clf.predict(X_train)\n",
    "print(f'Balanced accuracy (train): {metrics.balanced_accuracy_score(y_train, y_pred):0.4f}')"
   ]
  },
  {
   "cell_type": "markdown",
   "id": "f55cb569-437b-4c5e-a6d7-8489e7918304",
   "metadata": {},
   "source": [
    "## Testing the model\n",
    "\n",
    "Ok, it seems our model has fit the training data well. How well does it perform on unseen test data? Let's load the data in for a different user."
   ]
  },
  {
   "cell_type": "code",
   "execution_count": 294,
   "id": "bfabfefd-26fa-46c6-9790-e378cea03028",
   "metadata": {},
   "outputs": [
    {
     "name": "stdout",
     "output_type": "stream",
     "text": [
      "2681 examples with 158.0 positives\n"
     ]
    }
   ],
   "source": [
    "df_test = load_data_for_user('11B5EC4D-4133-4289-B475-4E737182A406')\n",
    "X_test, y_test = get_features_and_target(df_test, acc_sensors, target_column)\n",
    "print(f'{y_train.shape[0]} examples with {y_train.sum()} positives')"
   ]
  },
  {
   "cell_type": "markdown",
   "id": "4938c94f-5767-40ec-bbd4-c05dcd334e38",
   "metadata": {},
   "source": [
    "We also need to preprocess as before. **Note**: we are using the scaler and imputer fit to the training data here. It's very important that you do not call `fit` or `fit_transform` here! Think about why."
   ]
  },
  {
   "cell_type": "code",
   "execution_count": 295,
   "id": "4b6fd7e9-7657-48a3-a393-c339a74344d3",
   "metadata": {},
   "outputs": [],
   "source": [
    "X_test = imputer.transform(scaler.transform(X_test))"
   ]
  },
  {
   "cell_type": "markdown",
   "id": "c131312f-246c-4509-b45a-ea5a83ffab4b",
   "metadata": {},
   "source": [
    "## Test accuracy"
   ]
  },
  {
   "cell_type": "code",
   "execution_count": 296,
   "id": "dd9cb70b-24b7-4812-88ce-f94aa4ad0070",
   "metadata": {},
   "outputs": [
    {
     "name": "stdout",
     "output_type": "stream",
     "text": [
      "Test accuracy: 0.9746\n"
     ]
    }
   ],
   "source": [
    "print(f'Test accuracy: {clf.score(X_test, y_test):0.4f}')"
   ]
  },
  {
   "cell_type": "code",
   "execution_count": 297,
   "id": "ae41bee5",
   "metadata": {},
   "outputs": [
    {
     "name": "stdout",
     "output_type": "stream",
     "text": [
      "Balanced accuracy (train): 0.7327\n"
     ]
    }
   ],
   "source": [
    "y_pred = clf.predict(X_test)\n",
    "print(f'Balanced accuracy (train): {metrics.balanced_accuracy_score(y_test, y_pred):0.4f}')"
   ]
  },
  {
   "cell_type": "code",
   "execution_count": 298,
   "id": "06526bea-34ec-4095-af1e-e3b88049b686",
   "metadata": {},
   "outputs": [
    {
     "name": "stdout",
     "output_type": "stream",
     "text": [
      "UUID :  00EABED2-271D-49D8-B599-1D4A09240601\n",
      "2681 examples with 158.0 positives\n",
      "Test accuracy: 0.9320\n",
      "Balanced accuracy (train): 0.6230\n",
      " \n",
      "UUID :  0A986513-7828-4D53-AA1F-E02D6DF9561B\n",
      "2681 examples with 158.0 positives\n",
      "Test accuracy: 0.9497\n",
      "Balanced accuracy (train): 0.6765\n",
      " \n",
      "UUID :  0BFC35E2-4817-4865-BFA7-764742302A2D\n",
      "2681 examples with 158.0 positives\n",
      "Test accuracy: 0.7961\n",
      "Balanced accuracy (train): 0.4889\n",
      " \n",
      "UUID :  0E6184E1-90C0-48EE-B25A-F1ECB7B9714E\n",
      "2681 examples with 158.0 positives\n",
      "Test accuracy: 0.8157\n",
      "Balanced accuracy (train): 0.5791\n",
      " \n",
      "UUID :  1DBB0F6F-1F81-4A50-9DF4-CD62ACFA4842\n",
      "2681 examples with 158.0 positives\n",
      "Test accuracy: 0.8907\n",
      "Balanced accuracy (train): 0.6433\n",
      " \n",
      "Mean of Balanced Accuracy :  0.602156029135768\n",
      "Variance of Balanced Accuracy :  0.005256796063441051\n"
     ]
    }
   ],
   "source": [
    "# Selecting 5 different users and testing the model on each indiviually\n",
    "# Evaluating mean and variance of the balanced accuracy\n",
    "\n",
    "u_str = ['00EABED2-271D-49D8-B599-1D4A09240601', '0A986513-7828-4D53-AA1F-E02D6DF9561B','0BFC35E2-4817-4865-BFA7-764742302A2D','0E6184E1-90C0-48EE-B25A-F1ECB7B9714E','1DBB0F6F-1F81-4A50-9DF4-CD62ACFA4842']\n",
    "x_list = []\n",
    "\n",
    "\n",
    "\n",
    "def store_list(x) :          # function to store list\n",
    "    x_list.append(x)\n",
    "    \n",
    "    \n",
    "    \n",
    "for u in u_str:\n",
    "    df_test = load_data_for_user(u)\n",
    "    X_test, y_test = get_features_and_target(df_test, acc_sensors, target_column)\n",
    "    print(\"UUID : \", u)\n",
    "    print(f'{y_train.shape[0]} examples with {y_train.sum()} positives')\n",
    "    X_test = imputer.transform(scaler.transform(X_test))\n",
    "    print(f'Test accuracy: {clf.score(X_test, y_test):0.4f}')\n",
    "    y_pred = clf.predict(X_test)\n",
    "    print(f'Balanced accuracy (train): {metrics.balanced_accuracy_score(y_test, y_pred):0.4f}')\n",
    "    x = float(format(metrics.balanced_accuracy_score(y_test, y_pred)))\n",
    "    \n",
    "    store_list(x)\n",
    "  \n",
    "    print(\" \")\n",
    "\n",
    "x_sum = sum(x_list)\n",
    "x_mean = x_sum/len(x_list)\n",
    "print(\"Mean of Balanced Accuracy : \",x_mean)\n",
    "\n",
    "var = statistics.variance(x_list)\n",
    "print(\"Variance of Balanced Accuracy : \",var)"
   ]
  },
  {
   "cell_type": "code",
   "execution_count": 299,
   "id": "3225c658",
   "metadata": {},
   "outputs": [],
   "source": [
    "#Combining the Data of Five users and adding it into a single data frame\n",
    "\n",
    "u_str = ['00EABED2-271D-49D8-B599-1D4A09240601','0A986513-7828-4D53-AA1F-E02D6DF9561B','0BFC35E2-4817-4865-BFA7-764742302A2D','0E6184E1-90C0-48EE-B25A-F1ECB7B9714E','1DBB0F6F-1F81-4A50-9DF4-CD62ACFA4842']\n",
    "\n",
    "\n",
    "combined_csv = pd.concat([pd.read_csv(data_dir + '/' + (u + '.features_labels.csv')) for u in u_str])\n",
    "df_csv = pd.DataFrame(combined_csv)  \n",
    "df_csv.to_csv(\"Amurusha_csv.csv\", index=False, encoding='utf-8-sig')\n",
    "\n"
   ]
  },
  {
   "cell_type": "code",
   "execution_count": 300,
   "id": "d9709e54",
   "metadata": {},
   "outputs": [],
   "source": [
    "df_combined = pd.read_csv(data_dir +'/'+'Amurusha_csv.csv')"
   ]
  },
  {
   "cell_type": "markdown",
   "id": "3c807e76",
   "metadata": {},
   "source": [
    "## Increasing training data using splits\n"
   ]
  },
  {
   "cell_type": "code",
   "execution_count": 301,
   "id": "93f83a82",
   "metadata": {},
   "outputs": [],
   "source": [
    "from sklearn.model_selection import train_test_split"
   ]
  },
  {
   "cell_type": "code",
   "execution_count": 302,
   "id": "11d3d508",
   "metadata": {},
   "outputs": [],
   "source": [
    "X_test, y_test = get_features_and_target(df_combined, acc_sensors, target_column)"
   ]
  },
  {
   "cell_type": "code",
   "execution_count": 303,
   "id": "44efdf12",
   "metadata": {},
   "outputs": [],
   "source": [
    "# Splitting the data set into 80-20 (80 = Training set ,20 = Validation set ) INTRODUCING VALIDATION SET\n",
    "\n",
    "X_train, X_val, y_train, y_val = train_test_split(X_train, y_train, test_size=0.20, random_state=1) # 0.25 x 0.8 = 0.2"
   ]
  },
  {
   "cell_type": "code",
   "execution_count": 304,
   "id": "cbc4df14",
   "metadata": {},
   "outputs": [],
   "source": [
    "scaler = StandardScaler()\n",
    "imputer = SimpleImputer(strategy='mean')\n",
    "\n",
    "X_train = scaler.fit_transform(X_train)\n",
    "X_train = imputer.fit_transform(X_train)"
   ]
  },
  {
   "cell_type": "code",
   "execution_count": 305,
   "id": "a2ba20d8",
   "metadata": {},
   "outputs": [
    {
     "data": {
      "text/plain": [
       "LogisticRegression(max_iter=1000, solver='liblinear')"
      ]
     },
     "execution_count": 305,
     "metadata": {},
     "output_type": "execute_result"
    }
   ],
   "source": [
    "clf = LogisticRegression(solver='liblinear', max_iter=1000, C=1.0)\n",
    "clf.fit(X_train, y_train)"
   ]
  },
  {
   "cell_type": "code",
   "execution_count": 306,
   "id": "3687c8bf",
   "metadata": {},
   "outputs": [
    {
     "name": "stdout",
     "output_type": "stream",
     "text": [
      "Logistic Regression with C= 1.0 Training accuracy: 0.9729\n"
     ]
    }
   ],
   "source": [
    "print(f'Logistic Regression with C= 1.0 Training accuracy: {clf.score(X_train, y_train):0.4f}')"
   ]
  },
  {
   "cell_type": "code",
   "execution_count": 307,
   "id": "bb0b6472",
   "metadata": {},
   "outputs": [
    {
     "data": {
      "text/plain": [
       "0.9393656716417911"
      ]
     },
     "execution_count": 307,
     "metadata": {},
     "output_type": "execute_result"
    }
   ],
   "source": [
    "1 - y_train.sum() / y_train.shape[0]"
   ]
  },
  {
   "cell_type": "code",
   "execution_count": 308,
   "id": "d86ddaf4",
   "metadata": {},
   "outputs": [
    {
     "name": "stdout",
     "output_type": "stream",
     "text": [
      "Balanced accuracy (train): 0.8185\n"
     ]
    }
   ],
   "source": [
    "X_val = scaler.transform(X_val)\n",
    "X_val = imputer.transform(X_val)\n",
    "y_pred = clf.predict(X_val)\n",
    "print(f'Balanced accuracy (train): {metrics.balanced_accuracy_score(y_val, y_pred):0.4f}')"
   ]
  },
  {
   "cell_type": "code",
   "execution_count": 309,
   "id": "16e6a89c",
   "metadata": {},
   "outputs": [
    {
     "name": "stdout",
     "output_type": "stream",
     "text": [
      "Classification Report\n",
      "Logistic Regression with C = 1.0\n",
      " \n",
      "              precision    recall  f1-score   support\n",
      "\n",
      "         0.0       0.98      0.99      0.99       509\n",
      "         1.0       0.86      0.64      0.73        28\n",
      "\n",
      "    accuracy                           0.98       537\n",
      "   macro avg       0.92      0.82      0.86       537\n",
      "weighted avg       0.97      0.98      0.97       537\n",
      "\n"
     ]
    }
   ],
   "source": [
    "print('Classification Report\\nLogistic Regression with C = 1.0\\n ')\n",
    "print(classification_report(y_val, y_pred))"
   ]
  },
  {
   "cell_type": "code",
   "execution_count": 310,
   "id": "7f7185dc",
   "metadata": {},
   "outputs": [],
   "source": [
    "#AUC value calculation\n",
    "\n",
    "#from sklearn .metrics import roc_auc_score\n",
    "#auc = np.round(roc_auc_score(y_val, y_pred), 3)\n",
    "#print(\"AUC for our data is {}\". format(auc))\n",
    "#plt.plot(auc)\n",
    "#plt.show()"
   ]
  },
  {
   "cell_type": "code",
   "execution_count": 311,
   "id": "3a6694ba",
   "metadata": {},
   "outputs": [
    {
     "name": "stdout",
     "output_type": "stream",
     "text": [
      "AUC for model data is:  0.8184816166152119\n"
     ]
    },
    {
     "data": {
      "image/png": "[encoded data removed]",
      "text/plain": [
       "<Figure size 640x480 with 1 Axes>"
      ]
     },
     "metadata": {},
     "output_type": "display_data"
    }
   ],
   "source": [
    "#ROC Curve\n",
    "\n",
    "fpr, tpr, _ = metrics.roc_curve(y_val,  y_pred)\n",
    "auc = metrics.roc_auc_score(y_val, y_pred)\n",
    "\n",
    "\n",
    "print(\"AUC for model data is: \",auc)\n",
    "plt.plot(fpr,tpr)\n",
    "plt.ylabel('True Positive Rate')\n",
    "plt.xlabel('False Positive Rate')\n",
    "plt.show()"
   ]
  },
  {
   "cell_type": "code",
   "execution_count": 312,
   "id": "ee745f6b",
   "metadata": {},
   "outputs": [
    {
     "data": {
      "text/plain": [
       "LogisticRegression(C=0.01, max_iter=1000, solver='liblinear')"
      ]
     },
     "execution_count": 312,
     "metadata": {},
     "output_type": "execute_result"
    }
   ],
   "source": [
    "# Changing C Parameter\n",
    "clf = LogisticRegression(solver='liblinear', max_iter=1000, C=0.01)\n",
    "clf.fit(X_train, y_train)\n"
   ]
  },
  {
   "cell_type": "code",
   "execution_count": 313,
   "id": "cdc3e90b",
   "metadata": {
    "scrolled": true
   },
   "outputs": [
    {
     "name": "stdout",
     "output_type": "stream",
     "text": [
      "Logistic Regression with C= 0.01 Training accuracy: 0.9701\n"
     ]
    }
   ],
   "source": [
    "print(f'Logistic Regression with C= 0.01 Training accuracy: {clf.score(X_train, y_train):0.4f}')"
   ]
  },
  {
   "cell_type": "code",
   "execution_count": 314,
   "id": "ef51dcc3",
   "metadata": {},
   "outputs": [
    {
     "data": {
      "text/plain": [
       "0.9393656716417911"
      ]
     },
     "execution_count": 314,
     "metadata": {},
     "output_type": "execute_result"
    }
   ],
   "source": [
    "1 - y_train.sum() / y_train.shape[0]"
   ]
  },
  {
   "cell_type": "code",
   "execution_count": 315,
   "id": "761de359",
   "metadata": {},
   "outputs": [
    {
     "name": "stdout",
     "output_type": "stream",
     "text": [
      "Balanced accuracy (train): 0.8721\n"
     ]
    }
   ],
   "source": [
    "X_val = scaler.transform(X_val)\n",
    "X_val = imputer.transform(X_val)\n",
    "y_pred = clf.predict(X_val)\n",
    "print(f'Balanced accuracy (train): {metrics.balanced_accuracy_score(y_val, y_pred):0.4f}')"
   ]
  },
  {
   "cell_type": "code",
   "execution_count": 316,
   "id": "224b839a",
   "metadata": {
    "scrolled": true
   },
   "outputs": [
    {
     "name": "stdout",
     "output_type": "stream",
     "text": [
      "LogisticRegression with C = 0.01 Classification Report\n",
      "\n",
      "              precision    recall  f1-score   support\n",
      "\n",
      "         0.0       0.99      0.99      0.99       509\n",
      "         1.0       0.88      0.75      0.81        28\n",
      "\n",
      "    accuracy                           0.98       537\n",
      "   macro avg       0.93      0.87      0.90       537\n",
      "weighted avg       0.98      0.98      0.98       537\n",
      "\n"
     ]
    }
   ],
   "source": [
    "print('LogisticRegression with C = 0.01 Classification Report\\n')\n",
    "print(classification_report(y_val, y_pred))"
   ]
  },
  {
   "cell_type": "code",
   "execution_count": 317,
   "id": "322f5581",
   "metadata": {},
   "outputs": [],
   "source": [
    "#AUC value calculation\n",
    "\n",
    "#from sklearn .metrics import roc_auc_score\n",
    "#auc = np.round(roc_auc_score(y_val, y_pred), 3)\n",
    "#print(\"AUC for our data is {}\". format(auc))\n",
    "#plt.plot(auc)\n",
    "#plt.show()"
   ]
  },
  {
   "cell_type": "code",
   "execution_count": 318,
   "id": "498357f2",
   "metadata": {
    "scrolled": true
   },
   "outputs": [
    {
     "name": "stdout",
     "output_type": "stream",
     "text": [
      "AUC for model data is :  0.8720530451866404\n"
     ]
    },
    {
     "data": {
      "image/png": "[encoded data removed]",
      "text/plain": [
       "<Figure size 640x480 with 1 Axes>"
      ]
     },
     "metadata": {},
     "output_type": "display_data"
    }
   ],
   "source": [
    "#ROC Curve\n",
    "\n",
    "fpr, tpr, _ = metrics.roc_curve(y_val,  y_pred)\n",
    "auc = metrics.roc_auc_score(y_val, y_pred)\n",
    "\n",
    "\n",
    "print(\"AUC for model data is : \",auc)\n",
    "plt.plot(fpr,tpr)\n",
    "plt.ylabel('True Positive Rate')\n",
    "plt.xlabel('False Positive Rate')\n",
    "plt.show()"
   ]
  },
  {
   "cell_type": "markdown",
   "id": "9419fd26",
   "metadata": {},
   "source": [
    "## Trying Another model"
   ]
  },
  {
   "cell_type": "code",
   "execution_count": 319,
   "id": "77923785",
   "metadata": {},
   "outputs": [
    {
     "data": {
      "text/plain": [
       "SVC(C=1, gamma=1, kernel='linear')"
      ]
     },
     "execution_count": 319,
     "metadata": {},
     "output_type": "execute_result"
    }
   ],
   "source": [
    "from sklearn.svm import SVC\n",
    "clf = SVC(C= 1, kernel='linear', gamma= 1)\n",
    "clf.fit(X_train, y_train)"
   ]
  },
  {
   "cell_type": "code",
   "execution_count": 320,
   "id": "1074f056",
   "metadata": {},
   "outputs": [
    {
     "name": "stdout",
     "output_type": "stream",
     "text": [
      "SVM Training accuracy for C = 1 : 0.9715\n"
     ]
    }
   ],
   "source": [
    "print(f'SVM Training accuracy for C = 1 : {clf.score(X_train, y_train):0.4f}')"
   ]
  },
  {
   "cell_type": "code",
   "execution_count": 321,
   "id": "052e13f0",
   "metadata": {},
   "outputs": [
    {
     "data": {
      "text/plain": [
       "0.9393656716417911"
      ]
     },
     "execution_count": 321,
     "metadata": {},
     "output_type": "execute_result"
    }
   ],
   "source": [
    "1 - y_train.sum() / y_train.shape[0]"
   ]
  },
  {
   "cell_type": "code",
   "execution_count": 322,
   "id": "52a91f3e",
   "metadata": {},
   "outputs": [
    {
     "name": "stdout",
     "output_type": "stream",
     "text": [
      "Balanced accuracy (train): 0.8393\n"
     ]
    }
   ],
   "source": [
    "X_val = scaler.transform(X_val)\n",
    "X_val = imputer.transform(X_val)\n",
    "y_pred = clf.predict(X_val)\n",
    "print(f'Balanced accuracy (train): {metrics.balanced_accuracy_score(y_val, y_pred):0.4f}')"
   ]
  },
  {
   "cell_type": "code",
   "execution_count": 323,
   "id": "94e16960",
   "metadata": {
    "scrolled": true
   },
   "outputs": [
    {
     "name": "stdout",
     "output_type": "stream",
     "text": [
      "SVM with linear kernel Classification Report \n",
      " C=1\n",
      " gamma =1 \n",
      "\n",
      "              precision    recall  f1-score   support\n",
      "\n",
      "         0.0       0.98      1.00      0.99       509\n",
      "         1.0       1.00      0.68      0.81        28\n",
      "\n",
      "    accuracy                           0.98       537\n",
      "   macro avg       0.99      0.84      0.90       537\n",
      "weighted avg       0.98      0.98      0.98       537\n",
      "\n"
     ]
    }
   ],
   "source": [
    "print('SVM with linear kernel Classification Report \\n C=1\\n gamma =1 \\n')\n",
    "print(classification_report(y_val, y_pred))"
   ]
  },
  {
   "cell_type": "code",
   "execution_count": 324,
   "id": "1a00beed",
   "metadata": {},
   "outputs": [],
   "source": [
    "#AUC value calculation\n",
    "\n",
    "#from sklearn .metrics import roc_auc_score\n",
    "#auc = np.round(roc_auc_score(y_val, y_pred), 3)\n",
    "#print(\"AUC for our data is {}\". format(auc))\n",
    "#plt.plot(auc)\n",
    "#plt.show()"
   ]
  },
  {
   "cell_type": "code",
   "execution_count": 325,
   "id": "0bdf5e4f",
   "metadata": {},
   "outputs": [
    {
     "name": "stdout",
     "output_type": "stream",
     "text": [
      "AUC for our data is :  0.8392857142857143\n"
     ]
    },
    {
     "data": {
      "image/png": "[encoded data removed]",
      "text/plain": [
       "<Figure size 640x480 with 1 Axes>"
      ]
     },
     "metadata": {},
     "output_type": "display_data"
    }
   ],
   "source": [
    "#ROC Curve\n",
    "\n",
    "fpr, tpr, _ = metrics.roc_curve(y_val,  y_pred)\n",
    "auc = metrics.roc_auc_score(y_val, y_pred)\n",
    "\n",
    "\n",
    "print(\"AUC for our data is : \",auc)\n",
    "plt.plot(fpr,tpr)\n",
    "plt.ylabel('True Positive Rate')\n",
    "plt.xlabel('False Positive Rate')\n",
    "plt.show()"
   ]
  },
  {
   "cell_type": "markdown",
   "id": "8cfe7ebd",
   "metadata": {},
   "source": [
    "## changing C parameter from 1 to 0.01"
   ]
  },
  {
   "cell_type": "code",
   "execution_count": 326,
   "id": "18c6ea92",
   "metadata": {},
   "outputs": [
    {
     "data": {
      "text/plain": [
       "SVC(C=0.01, gamma=1, kernel='linear')"
      ]
     },
     "execution_count": 326,
     "metadata": {},
     "output_type": "execute_result"
    }
   ],
   "source": [
    "from sklearn.svm import SVC\n",
    "clf = SVC(C= 0.01, kernel='linear', gamma= 1)\n",
    "clf.fit(X_train, y_train)"
   ]
  },
  {
   "cell_type": "code",
   "execution_count": 327,
   "id": "32837d0d",
   "metadata": {},
   "outputs": [
    {
     "name": "stdout",
     "output_type": "stream",
     "text": [
      "SVM Training accuracy for C = .01 : 0.9697\n"
     ]
    }
   ],
   "source": [
    "print(f'SVM Training accuracy for C = .01 : {clf.score(X_train, y_train):0.4f}')"
   ]
  },
  {
   "cell_type": "code",
   "execution_count": 328,
   "id": "ace92ec7",
   "metadata": {},
   "outputs": [
    {
     "data": {
      "text/plain": [
       "0.9393656716417911"
      ]
     },
     "execution_count": 328,
     "metadata": {},
     "output_type": "execute_result"
    }
   ],
   "source": [
    "1 - y_train.sum() / y_train.shape[0]"
   ]
  },
  {
   "cell_type": "code",
   "execution_count": 329,
   "id": "87ca44dd",
   "metadata": {},
   "outputs": [
    {
     "name": "stdout",
     "output_type": "stream",
     "text": [
      "Balanced accuracy (train): 0.8740\n"
     ]
    }
   ],
   "source": [
    "X_val = scaler.transform(X_val)\n",
    "X_val = imputer.transform(X_val)\n",
    "y_pred = clf.predict(X_val)\n",
    "print(f'Balanced accuracy (train): {metrics.balanced_accuracy_score(y_val, y_pred):0.4f}')"
   ]
  },
  {
   "cell_type": "code",
   "execution_count": 330,
   "id": "6dcd808d",
   "metadata": {},
   "outputs": [
    {
     "name": "stdout",
     "output_type": "stream",
     "text": [
      "SVM with linear kernel Classification Report \n",
      " C=0.01 \n",
      " gamma =1 \n",
      "\n",
      "              precision    recall  f1-score   support\n",
      "\n",
      "         0.0       0.99      1.00      0.99       509\n",
      "         1.0       0.95      0.75      0.84        28\n",
      "\n",
      "    accuracy                           0.99       537\n",
      "   macro avg       0.97      0.87      0.92       537\n",
      "weighted avg       0.98      0.99      0.98       537\n",
      "\n"
     ]
    }
   ],
   "source": [
    "print('SVM with linear kernel Classification Report \\n C=0.01 \\n gamma =1 \\n')\n",
    "print(classification_report(y_val, y_pred))"
   ]
  },
  {
   "cell_type": "code",
   "execution_count": 331,
   "id": "c04ca36d",
   "metadata": {},
   "outputs": [
    {
     "name": "stdout",
     "output_type": "stream",
     "text": [
      "AUC for our data is :  0.8740176817288802\n"
     ]
    },
    {
     "data": {
      "image/png": "[encoded data removed]",
      "text/plain": [
       "<Figure size 640x480 with 1 Axes>"
      ]
     },
     "metadata": {},
     "output_type": "display_data"
    }
   ],
   "source": [
    "#ROC Curve\n",
    "\n",
    "fpr, tpr, _ = metrics.roc_curve(y_val,  y_pred)\n",
    "auc = metrics.roc_auc_score(y_val, y_pred)\n",
    "\n",
    "\n",
    "print(\"AUC for our data is : \",auc)\n",
    "plt.plot(fpr,tpr)\n",
    "plt.ylabel('True Positive Rate')\n",
    "plt.xlabel('False Positive Rate')\n",
    "plt.show()"
   ]
  },
  {
   "cell_type": "markdown",
   "id": "bf7f98b6",
   "metadata": {},
   "source": [
    "##  Changing hyper parameter - gamma from 1 to 0.5"
   ]
  },
  {
   "cell_type": "code",
   "execution_count": 332,
   "id": "53668da3",
   "metadata": {},
   "outputs": [
    {
     "data": {
      "text/plain": [
       "SVC(C=0.01, gamma=0.5, kernel='linear')"
      ]
     },
     "execution_count": 332,
     "metadata": {},
     "output_type": "execute_result"
    }
   ],
   "source": [
    "from sklearn.svm import SVC\n",
    "clf = SVC(C=0.01, kernel='linear', gamma= 0.5)\n",
    "clf.fit(X_train, y_train)"
   ]
  },
  {
   "cell_type": "code",
   "execution_count": 333,
   "id": "3e67e343",
   "metadata": {},
   "outputs": [
    {
     "name": "stdout",
     "output_type": "stream",
     "text": [
      "SVM Training accuracy for C = 0.1 & gamma = 0.5 : 0.9697\n"
     ]
    }
   ],
   "source": [
    "print(f'SVM Training accuracy for C = 0.1 & gamma = 0.5 : {clf.score(X_train, y_train):0.4f}')"
   ]
  },
  {
   "cell_type": "code",
   "execution_count": 334,
   "id": "45e48427",
   "metadata": {},
   "outputs": [
    {
     "data": {
      "text/plain": [
       "0.9393656716417911"
      ]
     },
     "execution_count": 334,
     "metadata": {},
     "output_type": "execute_result"
    }
   ],
   "source": [
    "1 - y_train.sum() / y_train.shape[0]"
   ]
  },
  {
   "cell_type": "code",
   "execution_count": 335,
   "id": "0dd21e23",
   "metadata": {},
   "outputs": [
    {
     "name": "stdout",
     "output_type": "stream",
     "text": [
      "Balanced accuracy (train): 0.8562\n"
     ]
    }
   ],
   "source": [
    "X_val = scaler.transform(X_val)\n",
    "X_val = imputer.transform(X_val)\n",
    "y_pred = clf.predict(X_val)\n",
    "print(f'Balanced accuracy (train): {metrics.balanced_accuracy_score(y_val, y_pred):0.4f}')"
   ]
  },
  {
   "cell_type": "code",
   "execution_count": 336,
   "id": "fbc08598",
   "metadata": {
    "scrolled": true
   },
   "outputs": [
    {
     "name": "stdout",
     "output_type": "stream",
     "text": [
      "SVM with linear kernel Classification Report \n",
      " gamma = 0.5\n",
      "\n",
      "              precision    recall  f1-score   support\n",
      "\n",
      "         0.0       0.98      1.00      0.99       509\n",
      "         1.0       0.95      0.71      0.82        28\n",
      "\n",
      "    accuracy                           0.98       537\n",
      "   macro avg       0.97      0.86      0.90       537\n",
      "weighted avg       0.98      0.98      0.98       537\n",
      "\n"
     ]
    }
   ],
   "source": [
    "print('SVM with linear kernel Classification Report \\n gamma = 0.5\\n')\n",
    "print(classification_report(y_val, y_pred))"
   ]
  },
  {
   "cell_type": "code",
   "execution_count": 337,
   "id": "df051b4c",
   "metadata": {},
   "outputs": [],
   "source": [
    "#AUC value calculation\n",
    "\n",
    "#from sklearn .metrics import roc_auc_score\n",
    "#auc = np.round(roc_auc_score(y_val, y_pred), 3)\n",
    "#print(\"AUC for our data is {}\". format(auc))\n",
    "#plt.plot(auc)\n",
    "#plt.show()"
   ]
  },
  {
   "cell_type": "code",
   "execution_count": 338,
   "id": "78654346",
   "metadata": {},
   "outputs": [
    {
     "name": "stdout",
     "output_type": "stream",
     "text": [
      "AUC for our data is :  0.8561605388717375\n"
     ]
    },
    {
     "data": {
      "image/png": "[encoded data removed]",
      "text/plain": [
       "<Figure size 640x480 with 1 Axes>"
      ]
     },
     "metadata": {},
     "output_type": "display_data"
    }
   ],
   "source": [
    "#ROC Curve\n",
    "\n",
    "fpr, tpr, _ = metrics.roc_curve(y_val,  y_pred)\n",
    "auc = metrics.roc_auc_score(y_val, y_pred)\n",
    "\n",
    "\n",
    "print(\"AUC for our data is : \",auc)\n",
    "plt.plot(fpr,tpr)\n",
    "plt.ylabel('True Positive Rate')\n",
    "plt.xlabel('False Positive Rate')\n",
    "plt.show()"
   ]
  },
  {
   "cell_type": "markdown",
   "id": "bbf13707",
   "metadata": {},
   "source": [
    "## Changing Kernel Type"
   ]
  },
  {
   "cell_type": "code",
   "execution_count": 339,
   "id": "3bb5ca93",
   "metadata": {},
   "outputs": [
    {
     "data": {
      "text/plain": [
       "SVC(C=0.01, gamma=1, kernel='poly')"
      ]
     },
     "execution_count": 339,
     "metadata": {},
     "output_type": "execute_result"
    }
   ],
   "source": [
    "clf = SVC(C= .01, kernel='poly', gamma= 1)\n",
    "clf.fit(X_train, y_train)"
   ]
  },
  {
   "cell_type": "code",
   "execution_count": 340,
   "id": "ae8c41f7",
   "metadata": {},
   "outputs": [
    {
     "name": "stdout",
     "output_type": "stream",
     "text": [
      "Training accuracy: 1.0000\n"
     ]
    }
   ],
   "source": [
    "print(f'Training accuracy: {clf.score(X_train, y_train):0.4f}')"
   ]
  },
  {
   "cell_type": "code",
   "execution_count": 341,
   "id": "45b99bc3",
   "metadata": {},
   "outputs": [
    {
     "data": {
      "text/plain": [
       "0.9393656716417911"
      ]
     },
     "execution_count": 341,
     "metadata": {},
     "output_type": "execute_result"
    }
   ],
   "source": [
    "1 - y_train.sum() / y_train.shape[0]"
   ]
  },
  {
   "cell_type": "code",
   "execution_count": 342,
   "id": "fa4b7269",
   "metadata": {},
   "outputs": [
    {
     "name": "stdout",
     "output_type": "stream",
     "text": [
      "Balanced accuracy (train): 0.8218\n"
     ]
    }
   ],
   "source": [
    "X_val = scaler.transform(X_val)\n",
    "X_val = imputer.transform(X_val)\n",
    "y_pred = clf.predict(X_val)\n",
    "print(f'Balanced accuracy (train): {metrics.balanced_accuracy_score(y_val, y_pred):0.4f}')"
   ]
  },
  {
   "cell_type": "code",
   "execution_count": 343,
   "id": "9251813b",
   "metadata": {},
   "outputs": [
    {
     "name": "stdout",
     "output_type": "stream",
     "text": [
      "SVM with Poly kernel Classification Report\n",
      "\n",
      "              precision    recall  f1-score   support\n",
      "\n",
      "         0.0       0.98      0.93      0.96       509\n",
      "         1.0       0.36      0.71      0.48        28\n",
      "\n",
      "    accuracy                           0.92       537\n",
      "   macro avg       0.67      0.82      0.72       537\n",
      "weighted avg       0.95      0.92      0.93       537\n",
      "\n"
     ]
    }
   ],
   "source": [
    "print('SVM with Poly kernel Classification Report\\n')\n",
    "print(classification_report(y_val, y_pred))"
   ]
  },
  {
   "cell_type": "code",
   "execution_count": 344,
   "id": "b4002984",
   "metadata": {},
   "outputs": [],
   "source": [
    "#AUC value calculation\n",
    "\n",
    "#from sklearn .metrics import roc_auc_score\n",
    "#auc = np.round(roc_auc_score(y_val, y_pred), 3)\n",
    "#print(\"AUC for our data is {}\". format(auc))\n",
    "#plt.plot(auc)\n",
    "#plt.show()"
   ]
  },
  {
   "cell_type": "code",
   "execution_count": 345,
   "id": "27989b12",
   "metadata": {},
   "outputs": [
    {
     "name": "stdout",
     "output_type": "stream",
     "text": [
      "AUC for our data is :  0.8217793993825429\n"
     ]
    },
    {
     "data": {
      "image/png": "[encoded data removed]",
      "text/plain": [
       "<Figure size 640x480 with 1 Axes>"
      ]
     },
     "metadata": {},
     "output_type": "display_data"
    }
   ],
   "source": [
    "#ROC Curve\n",
    "\n",
    "fpr, tpr, _ = metrics.roc_curve(y_val,  y_pred)\n",
    "auc = metrics.roc_auc_score(y_val, y_pred)\n",
    "\n",
    "\n",
    "print(\"AUC for our data is : \",auc)\n",
    "plt.plot(fpr,tpr)\n",
    "plt.ylabel('True Positive Rate')\n",
    "plt.xlabel('False Positive Rate')\n",
    "plt.show()"
   ]
  },
  {
   "cell_type": "code",
   "execution_count": null,
   "id": "bc1ca2d1",
   "metadata": {},
   "outputs": [],
   "source": []
  }
 ],
 "metadata": {
  "kernelspec": {
   "display_name": "Python 3 (ipykernel)",
   "language": "python",
   "name": "python3"
  },
  "language_info": {
   "codemirror_mode": {
    "name": "ipython",
    "version": 3
   },
   "file_extension": ".py",
   "mimetype": "text/x-python",
   "name": "python",
   "nbconvert_exporter": "python",
   "pygments_lexer": "ipython3",
   "version": "3.9.13"
  }
 },
 "nbformat": 4,
 "nbformat_minor": 5
}
