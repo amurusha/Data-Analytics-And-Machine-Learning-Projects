{
  "cells": [
    {
      "cell_type": "markdown",
      "metadata": {
        "id": "1e4b5617-aa46-4385-9964-a3bac5ae5a15"
      },
      "source": [
        "## Planet four image classification"
      ],
      "id": "1e4b5617-aa46-4385-9964-a3bac5ae5a15"
    },
    {
      "cell_type": "code",
      "execution_count": 1,
      "metadata": {
        "id": "746335e6-87ca-4786-ada5-a042ad526425"
      },
      "outputs": [],
      "source": [
        "import numpy as np\n",
        "import matplotlib.pyplot as plt\n",
        "import pandas as pd\n",
        "\n",
        "import torch\n",
        "import torch.nn.functional as F\n",
        "import torch.nn as nn\n",
        "import torch.optim as optim\n",
        "import torchvision.transforms as transforms\n",
        "import torchvision.models as models\n",
        "import sklearn.metrics as metrics\n",
        "import tqdm\n",
        "\n",
        "from torch.utils.data import DataLoader\n",
        "from torchvision.datasets.folder import pil_loader\n",
        "from pathlib import Path\n",
        "from PIL import Image"
      ],
      "id": "746335e6-87ca-4786-ada5-a042ad526425"
    },
    {
      "cell_type": "code",
      "execution_count": 2,
      "metadata": {
        "id": "42Ds-tauuEvz",
        "colab": {
          "base_uri": "https://localhost:8080/",
          "height": 0
        },
        "outputId": "093d51da-d54b-44be-fc2e-26d533d0855e"
      },
      "outputs": [
        {
          "output_type": "stream",
          "name": "stdout",
          "text": [
            "Mounted at /content/drive\n"
          ]
        }
      ],
      "source": [
        "from google.colab import drive\n",
        "drive.mount('/content/drive')"
      ],
      "id": "42Ds-tauuEvz"
    },
    {
      "cell_type": "markdown",
      "metadata": {
        "id": "2c002513-1fe7-4786-88cd-07d35fc0b430"
      },
      "source": [
        "Change the device to \"cpu\" if you want to train on a CPU instead of a GPU."
      ],
      "id": "2c002513-1fe7-4786-88cd-07d35fc0b430"
    },
    {
      "cell_type": "code",
      "execution_count": 3,
      "metadata": {
        "id": "bad120f2-9393-4c57-87a7-8197e9a1245d"
      },
      "outputs": [],
      "source": [
        "device = 'cuda'"
      ],
      "id": "bad120f2-9393-4c57-87a7-8197e9a1245d"
    },
    {
      "cell_type": "code",
      "source": [
        "gpu_info = !nvidia-smi\n",
        "gpu_info = '\\n'.join(gpu_info)\n",
        "if gpu_info.find('failed') >= 0:\n",
        "  print('Not connected to a GPU')\n",
        "else:\n",
        "  print(gpu_info)"
      ],
      "metadata": {
        "colab": {
          "base_uri": "https://localhost:8080/",
          "height": 0
        },
        "id": "uimVn0EWvlxf",
        "outputId": "aa779fdb-2211-469f-8746-5a276f50fdd0"
      },
      "id": "uimVn0EWvlxf",
      "execution_count": 4,
      "outputs": [
        {
          "output_type": "stream",
          "name": "stdout",
          "text": [
            "Sun Dec  4 06:07:51 2022       \n",
            "+-----------------------------------------------------------------------------+\n",
            "| NVIDIA-SMI 460.32.03    Driver Version: 460.32.03    CUDA Version: 11.2     |\n",
            "|-------------------------------+----------------------+----------------------+\n",
            "| GPU  Name        Persistence-M| Bus-Id        Disp.A | Volatile Uncorr. ECC |\n",
            "| Fan  Temp  Perf  Pwr:Usage/Cap|         Memory-Usage | GPU-Util  Compute M. |\n",
            "|                               |                      |               MIG M. |\n",
            "|===============================+======================+======================|\n",
            "|   0  Tesla T4            Off  | 00000000:00:04.0 Off |                    0 |\n",
            "| N/A   41C    P0    26W /  70W |      0MiB / 15109MiB |      0%      Default |\n",
            "|                               |                      |                  N/A |\n",
            "+-------------------------------+----------------------+----------------------+\n",
            "                                                                               \n",
            "+-----------------------------------------------------------------------------+\n",
            "| Processes:                                                                  |\n",
            "|  GPU   GI   CI        PID   Type   Process name                  GPU Memory |\n",
            "|        ID   ID                                                   Usage      |\n",
            "|=============================================================================|\n",
            "|  No running processes found                                                 |\n",
            "+-----------------------------------------------------------------------------+\n"
          ]
        }
      ]
    },
    {
      "cell_type": "code",
      "source": [
        "from psutil import virtual_memory\n",
        "ram_gb = virtual_memory().total / 1e9\n",
        "print('Your runtime has {:.1f} gigabytes of available RAM\\n'.format(ram_gb))\n",
        "\n",
        "if ram_gb < 20:\n",
        "  print('Not using a high-RAM runtime')\n",
        "else:\n",
        "  print('You are using a high-RAM runtime!')"
      ],
      "metadata": {
        "colab": {
          "base_uri": "https://localhost:8080/",
          "height": 0
        },
        "id": "weBv4Q2Gvll1",
        "outputId": "5e4ff034-b780-47fd-a5b0-2a6461cff095"
      },
      "id": "weBv4Q2Gvll1",
      "execution_count": 5,
      "outputs": [
        {
          "output_type": "stream",
          "name": "stdout",
          "text": [
            "Your runtime has 27.3 gigabytes of available RAM\n",
            "\n",
            "You are using a high-RAM runtime!\n"
          ]
        }
      ]
    },
    {
      "cell_type": "markdown",
      "metadata": {
        "id": "837c532e-5cfc-4216-a321-419968407f37"
      },
      "source": [
        "## Dataset\n",
        "\n",
        "Here we define a custom Dataset object for the Planet Four data. You can read more about this in the PyTorch documentation: https://pytorch.org/tutorials/beginner/basics/data_tutorial.html"
      ],
      "id": "837c532e-5cfc-4216-a321-419968407f37"
    },
    {
      "cell_type": "code",
      "execution_count": 6,
      "metadata": {
        "id": "ba9356db-6837-4444-bdab-a4aea56007a9"
      },
      "outputs": [],
      "source": [
        "class PlanetFourDataset(object):\n",
        "    def __init__(self, split='train', transform=None, loader=pil_loader):\n",
        "        super().__init__()\n",
        "        self.split = split\n",
        "        self.base_dir = Path('/content/drive/MyDrive/Planetfour/planetfour')\n",
        "        self.image_dir = self.base_dir / split\n",
        "        self.labels_file = self.base_dir / (split + '.csv')\n",
        "        self.labels_df = pd.read_csv(self.labels_file)\n",
        "        self.transform = transform\n",
        "        self.loader = loader\n",
        "        \n",
        "    def __getitem__(self, index):\n",
        "        row = self.labels_df.iloc[index]\n",
        "        filename = self.image_dir / (row.tile_id + '.jpg')\n",
        "        #print(filename)\n",
        "        fans = int(row.fans)\n",
        "        blotches = int(row.blotches)\n",
        "        image = self.loader(str(filename))\n",
        "        if self.transform is not None:\n",
        "            image = self.transform(image)\n",
        "        return image, torch.tensor([fans, blotches], dtype=torch.float32)\n",
        "    \n",
        "    def __len__(self):\n",
        "        return len(self.labels_df)"
      ],
      "id": "ba9356db-6837-4444-bdab-a4aea56007a9"
    },
    {
      "cell_type": "markdown",
      "metadata": {
        "id": "bb6ef1da-a034-4d88-bbab-64dbce05da6a"
      },
      "source": [
        "## Data augmentation\n",
        "\n",
        "It is standard practice in deep learning to augment the training examples to prevent the network from overfitting. Here I use some standard augmentations such as randomly mirroring the images."
      ],
      "id": "bb6ef1da-a034-4d88-bbab-64dbce05da6a"
    },
    {
      "cell_type": "code",
      "execution_count": 7,
      "metadata": {
        "id": "198239e2-84ff-4e33-a1dd-7b9a18f68d49"
      },
      "outputs": [],
      "source": [
        "train_transform = transforms.Compose([\n",
        "    transforms.RandomHorizontalFlip(),\n",
        "    transforms.ToTensor(),\n",
        "    transforms.Normalize((0.4914, 0.4822, 0.4465), (0.2023, 0.1994, 0.2010))                  \n",
        "])\n",
        "\n",
        "valid_transform = transforms.Compose([\n",
        "    transforms.ToTensor(),\n",
        "    transforms.Normalize((0.4914, 0.4822, 0.4465), (0.2023, 0.1994, 0.2010)) \n",
        "])"
      ],
      "id": "198239e2-84ff-4e33-a1dd-7b9a18f68d49"
    },
    {
      "cell_type": "markdown",
      "metadata": {
        "id": "7d7a5b9c-33a6-4bfc-a699-05f3415de676"
      },
      "source": [
        "## Data loaders\n",
        "\n",
        "In PyTorch, the data loaders take care of spinning up threads to load batches of data into memory from the dataset object."
      ],
      "id": "7d7a5b9c-33a6-4bfc-a699-05f3415de676"
    },
    {
      "cell_type": "code",
      "execution_count": 8,
      "metadata": {
        "id": "f8b2fb4c-e711-49a0-9a21-fb8249972ffc"
      },
      "outputs": [],
      "source": [
        "train_set = PlanetFourDataset('train', transform=train_transform)\n",
        "valid_set = PlanetFourDataset('valid', transform=train_transform)\n",
        "\n",
        "train_loader = DataLoader(train_set, batch_size=64, shuffle=True)\n",
        "valid_loader = DataLoader(valid_set, batch_size=64, shuffle=False)"
      ],
      "id": "f8b2fb4c-e711-49a0-9a21-fb8249972ffc"
    },
    {
      "cell_type": "markdown",
      "metadata": {
        "id": "1bbd1e9b-801b-4da5-975a-6c061b16b005"
      },
      "source": [
        "## Load a pretrained model\n",
        "\n",
        "Here we'll use ResNet50 model that has been pretrained on ImageNet and replace the final layer with a new one suited to our problem."
      ],
      "id": "1bbd1e9b-801b-4da5-975a-6c061b16b005"
    },
    {
      "cell_type": "code",
      "execution_count": 9,
      "metadata": {
        "colab": {
          "base_uri": "https://localhost:8080/",
          "height": 156,
          "referenced_widgets": [
            "74ccbf3df15a4492938aca90bad1c3e4",
            "12c224c897f747ab91bb36a01647f4d7",
            "d3edea7c7ccf474a87b1f0fc5e54f69f",
            "d61340e01334439a847790f111d3258f",
            "f56b0ea165c3450187bfb719a8dbd0cf",
            "6acc62b9c26b494f9830579cafa06c54",
            "88ab5a5ef82847cf8347fb42434b0ce8",
            "88475d36bc394b929dced66764f703f9",
            "a49cb0e8e3d840a294b7cf8c35256717",
            "301b108ea9e14bdfaf467e1ddaca9948",
            "f2165de54c0741e5b0626bd5c8c3ca85"
          ]
        },
        "id": "9e84455f-5c9c-4ccd-a107-bf19e6fec48e",
        "outputId": "02f9d2f6-22f6-494f-cff6-7ef0558a58db"
      },
      "outputs": [
        {
          "output_type": "stream",
          "name": "stderr",
          "text": [
            "/usr/local/lib/python3.8/dist-packages/torchvision/models/_utils.py:208: UserWarning: The parameter 'pretrained' is deprecated since 0.13 and will be removed in 0.15, please use 'weights' instead.\n",
            "  warnings.warn(\n",
            "/usr/local/lib/python3.8/dist-packages/torchvision/models/_utils.py:223: UserWarning: Arguments other than a weight enum or `None` for 'weights' are deprecated since 0.13 and will be removed in 0.15. The current behavior is equivalent to passing `weights=ResNet101_Weights.IMAGENET1K_V1`. You can also use `weights=ResNet101_Weights.DEFAULT` to get the most up-to-date weights.\n",
            "  warnings.warn(msg)\n",
            "Downloading: \"https://download.pytorch.org/models/resnet101-63fe2227.pth\" to /root/.cache/torch/hub/checkpoints/resnet101-63fe2227.pth\n"
          ]
        },
        {
          "output_type": "display_data",
          "data": {
            "text/plain": [
              "  0%|          | 0.00/171M [00:00<?, ?B/s]"
            ],
            "application/vnd.jupyter.widget-view+json": {
              "version_major": 2,
              "version_minor": 0,
              "model_id": "74ccbf3df15a4492938aca90bad1c3e4"
            }
          },
          "metadata": {}
        }
      ],
      "source": [
        "model = models.resnet101(pretrained=True)\n",
        "model.fc = nn.Linear(2048, 2)\n",
        "model.to(device);"
      ],
      "id": "9e84455f-5c9c-4ccd-a107-bf19e6fec48e"
    },
    {
      "cell_type": "markdown",
      "metadata": {
        "id": "8f3d8cc2-2be4-48e7-aa2e-f35d7a835796"
      },
      "source": [
        "## Loss\n",
        "\n",
        "Images can contain fans, blotches, both, or neither. You could treat this as a four class softmax problem, or two binary classification problems. Here I take the latter approach and use a binary cross entropy loss. "
      ],
      "id": "8f3d8cc2-2be4-48e7-aa2e-f35d7a835796"
    },
    {
      "cell_type": "code",
      "execution_count": 10,
      "metadata": {
        "id": "6729d82b-3a4c-4036-a95d-70695d528bb5"
      },
      "outputs": [],
      "source": [
        "criterion = nn.BCEWithLogitsLoss()"
      ],
      "id": "6729d82b-3a4c-4036-a95d-70695d528bb5"
    },
    {
      "cell_type": "markdown",
      "metadata": {
        "id": "426c8e89-d806-420f-a76c-ab10d1d4e406"
      },
      "source": [
        "## Optimizer\n",
        "\n",
        "Stochastic gradient descent with momentum"
      ],
      "id": "426c8e89-d806-420f-a76c-ab10d1d4e406"
    },
    {
      "cell_type": "code",
      "execution_count": 11,
      "metadata": {
        "id": "8eac8696-3a99-40c1-ab9f-d95971bd1f40"
      },
      "outputs": [],
      "source": [
        "optimizer = optim.SGD(model.parameters(), lr=0.001, momentum=0.9, weight_decay=1e-4)"
      ],
      "id": "8eac8696-3a99-40c1-ab9f-d95971bd1f40"
    },
    {
      "cell_type": "markdown",
      "metadata": {
        "id": "d5c709bf-c5cb-433b-b8af-678759182eef"
      },
      "source": [
        "## Training and validation functions"
      ],
      "id": "d5c709bf-c5cb-433b-b8af-678759182eef"
    },
    {
      "cell_type": "code",
      "execution_count": 17,
      "metadata": {
        "id": "26eb5f0c-7b1d-49f1-8682-097d0ae64e54",
        "colab": {
          "base_uri": "https://localhost:8080/",
          "height": 0
        },
        "outputId": "816bd7dc-827a-4069-81e5-66979c993925"
      },
      "outputs": [
        {
          "output_type": "stream",
          "name": "stdout",
          "text": [
            "trainloss_list =  []\n",
            "validloss_list =  []\n"
          ]
        }
      ],
      "source": [
        "avg_train_losses = []\n",
        "avg_valid_losses = []\n",
        "valid_accuracies = []\n",
        "\n",
        "trainloss_list = []\n",
        "validloss_list = []\n",
        "\n",
        "def make_list(x,y):\n",
        "    trainloss_list.append(x)\n",
        "    validloss_list.append(y)\n",
        "\n",
        "def train_for_epoch(optimizer):\n",
        "    model.train()\n",
        "\n",
        "    train_losses = []\n",
        "\n",
        "    for batch, target in tqdm.tqdm(train_loader):\n",
        "\n",
        "        # data to GPU\n",
        "        batch = batch.to(device)\n",
        "        target = target.to(device)\n",
        "\n",
        "        # reset optimizer\n",
        "        optimizer.zero_grad()\n",
        "\n",
        "        # forward pass\n",
        "        predictions = model(batch)\n",
        "        #breakpoint()\n",
        "\n",
        "        # calculate loss\n",
        "        loss = criterion(predictions, target)\n",
        "\n",
        "        # backward pass\n",
        "        loss.backward()\n",
        "\n",
        "        # parameter update\n",
        "        optimizer.step()\n",
        "\n",
        "        # track loss\n",
        "        train_losses.append(float(loss.item()))\n",
        "\n",
        "    train_losses = np.array(train_losses)\n",
        "    return train_losses\n",
        "\n",
        "\n",
        "def validate():\n",
        "    model.eval()\n",
        "\n",
        "    valid_losses = []\n",
        "    y_true, y_prob = [], []\n",
        "\n",
        "    with torch.no_grad():\n",
        "        for batch, target in valid_loader:\n",
        "\n",
        "            # move data to the device\n",
        "            batch = batch.to(device)\n",
        "            target = target.to(device)\n",
        "\n",
        "            # make predictions\n",
        "            predictions = model(batch)\n",
        "\n",
        "            # calculate loss\n",
        "            loss = criterion(predictions, target)\n",
        "            \n",
        "            # logits -> probabilities\n",
        "            torch.sigmoid_(predictions)\n",
        "\n",
        "            # track losses and predictions\n",
        "            valid_losses.append(float(loss.item()))\n",
        "            y_true.extend(target.cpu().numpy())\n",
        "            y_prob.extend(predictions.cpu().numpy())\n",
        "            \n",
        "    y_true = np.array(y_true)\n",
        "    y_prob = np.array(y_prob)\n",
        "    y_pred = y_prob > 0.5\n",
        "    valid_losses = np.array(valid_losses)\n",
        "\n",
        "    # calculate validation accuracy from y_true and y_pred\n",
        "    fan_accuracy = metrics.accuracy_score(y_true[:,0], y_pred[:,0])\n",
        "    blotch_accuracy = metrics.accuracy_score(y_true[:,1], y_pred[:,1])\n",
        "    exact_accuracy = np.all(y_true == y_pred, axis=1).mean()\n",
        "\n",
        "    # calculate the mean validation loss\n",
        "    valid_loss = valid_losses.mean()\n",
        "\n",
        "    return valid_loss, fan_accuracy, blotch_accuracy, exact_accuracy\n",
        "\n",
        "\n",
        "def train(epochs, first_epoch=1):\n",
        "    for epoch in range(first_epoch, epochs+first_epoch):\n",
        "\n",
        "        # train\n",
        "        train_loss = train_for_epoch(optimizer)\n",
        "\n",
        "        # validation\n",
        "        valid_loss, fan_accuracy, blotch_accuracy, both_accuracy = validate()\n",
        "        print(f'[{epoch:02d}] train loss: {train_loss.mean():0.04f}  '\n",
        "              f'valid loss: {valid_loss:0.04f}  ',\n",
        "              f'fan acc: {fan_accuracy:0.04f}  ',\n",
        "              f'blotch acc: {blotch_accuracy:0.04f}  ',\n",
        "              f'both acc: {both_accuracy:0.04f}'\n",
        "        )\n",
        "        \n",
        "        make_list(train_loss.mean(),valid_loss)\n",
        "       \n",
        "        \n",
        "        # update learning curves\n",
        "        avg_train_losses.append(train_loss.mean())\n",
        "        avg_valid_losses.append(valid_loss)\n",
        "        valid_accuracies.append((fan_accuracy, blotch_accuracy, both_accuracy))\n",
        "\n",
        "print('trainloss_list = ', trainloss_list)\n",
        "print('validloss_list = ', validloss_list)\n",
        "        \n",
        "        # save checkpoint\n",
        "        #torch.save(model, f'checkpoints/baseline_{epoch:03d}.pkl')"
      ],
      "id": "26eb5f0c-7b1d-49f1-8682-097d0ae64e54"
    },
    {
      "cell_type": "markdown",
      "metadata": {
        "id": "7b750e3a-4357-420e-b89e-aa1afbd35e2d"
      },
      "source": [
        "## Constant classifier accuracy\n",
        "\n",
        "Evaluate how accurate would a $f(x) = \\text{\"most common class\"}$ classifier be? "
      ],
      "id": "7b750e3a-4357-420e-b89e-aa1afbd35e2d"
    },
    {
      "cell_type": "code",
      "execution_count": 13,
      "metadata": {
        "id": "66147496-e69a-4391-89bf-d24d7c797371"
      },
      "outputs": [],
      "source": [
        "def constant_clf_accuracy():\n",
        "    y_true, y_pred = [], []\n",
        "    with torch.no_grad():\n",
        "        for _, target in valid_loader:\n",
        "            y_true.extend(target.cpu().numpy())\n",
        "            y_pred.extend(np.ones((target.shape[0], 2), dtype=np.float32))\n",
        "            \n",
        "    y_true = np.array(y_true)\n",
        "    y_pred = np.array(y_pred)\n",
        "        \n",
        "    # calculate validation accuracy from y_true and y_pred\n",
        "    f = metrics.accuracy_score(y_true[:,0], y_pred[:,0])\n",
        "    b = metrics.accuracy_score(y_true[:,1], y_pred[:,1])\n",
        "    t = np.all(y_true == y_pred, axis=1).mean()\n",
        "    print(f'fan: {f}  blotch: {b}  both: {t}')"
      ],
      "id": "66147496-e69a-4391-89bf-d24d7c797371"
    },
    {
      "cell_type": "code",
      "execution_count": 14,
      "metadata": {
        "id": "0148aec5-f941-4499-b107-65bff2ca87c8",
        "colab": {
          "base_uri": "https://localhost:8080/",
          "height": 0
        },
        "outputId": "9d732f5d-4360-4e47-e017-3255eec7abdd"
      },
      "outputs": [
        {
          "output_type": "stream",
          "name": "stdout",
          "text": [
            "fan: 0.6218644702358667  blotch: 0.8083114938225384  both: 0.4399101460127293\n"
          ]
        }
      ],
      "source": [
        "constant_clf_accuracy()"
      ],
      "id": "0148aec5-f941-4499-b107-65bff2ca87c8"
    },
    {
      "cell_type": "markdown",
      "metadata": {
        "id": "2c698dd8-6e41-4bba-9f77-82ed162a647f"
      },
      "source": [
        "## Train the model\n",
        "Call the ``train(n)`` function to train for ``n`` epochs."
      ],
      "id": "2c698dd8-6e41-4bba-9f77-82ed162a647f"
    },
    {
      "cell_type": "code",
      "execution_count": 18,
      "metadata": {
        "id": "b1baa5b9-b8d7-41c2-8e93-061af75185c4",
        "colab": {
          "base_uri": "https://localhost:8080/",
          "height": 0
        },
        "outputId": "32c8bbfe-22c3-476e-a185-1047d9589e50"
      },
      "outputs": [
        {
          "output_type": "stream",
          "name": "stderr",
          "text": [
            "100%|██████████| 376/376 [01:57<00:00,  3.20it/s]\n"
          ]
        },
        {
          "output_type": "stream",
          "name": "stdout",
          "text": [
            "[01] train loss: 0.3461  valid loss: 0.4030   fan acc: 0.7990   blotch acc: 0.8379   both acc: 0.6679\n"
          ]
        },
        {
          "output_type": "stream",
          "name": "stderr",
          "text": [
            "100%|██████████| 376/376 [01:57<00:00,  3.20it/s]\n"
          ]
        },
        {
          "output_type": "stream",
          "name": "stdout",
          "text": [
            "[02] train loss: 0.3069  valid loss: 0.4136   fan acc: 0.8087   blotch acc: 0.8311   both acc: 0.6720\n"
          ]
        },
        {
          "output_type": "stream",
          "name": "stderr",
          "text": [
            "100%|██████████| 376/376 [01:57<00:00,  3.21it/s]\n"
          ]
        },
        {
          "output_type": "stream",
          "name": "stdout",
          "text": [
            "[03] train loss: 0.2669  valid loss: 0.4379   fan acc: 0.7885   blotch acc: 0.8334   both acc: 0.6559\n"
          ]
        },
        {
          "output_type": "stream",
          "name": "stderr",
          "text": [
            "100%|██████████| 376/376 [01:57<00:00,  3.20it/s]\n"
          ]
        },
        {
          "output_type": "stream",
          "name": "stdout",
          "text": [
            "[04] train loss: 0.2308  valid loss: 0.4601   fan acc: 0.8012   blotch acc: 0.8360   both acc: 0.6709\n"
          ]
        },
        {
          "output_type": "stream",
          "name": "stderr",
          "text": [
            "100%|██████████| 376/376 [01:57<00:00,  3.21it/s]\n"
          ]
        },
        {
          "output_type": "stream",
          "name": "stdout",
          "text": [
            "[05] train loss: 0.2029  valid loss: 0.4655   fan acc: 0.8079   blotch acc: 0.8267   both acc: 0.6653\n"
          ]
        }
      ],
      "source": [
        "train(5)"
      ],
      "id": "b1baa5b9-b8d7-41c2-8e93-061af75185c4"
    },
    {
      "cell_type": "code",
      "source": [
        "print(trainloss_list)"
      ],
      "metadata": {
        "colab": {
          "base_uri": "https://localhost:8080/",
          "height": 0
        },
        "id": "SAQ8Jp6_v50z",
        "outputId": "9c4a4a58-d4f4-4a9d-dec5-df54af2bdf07"
      },
      "id": "SAQ8Jp6_v50z",
      "execution_count": 19,
      "outputs": [
        {
          "output_type": "stream",
          "name": "stdout",
          "text": [
            "[0.34605015461590694, 0.3069434526990703, 0.26694538194606915, 0.23082266018745748, 0.20286013279110193]\n"
          ]
        }
      ]
    },
    {
      "cell_type": "code",
      "source": [
        "print(validloss_list)\n",
        "epoch_list =[1,2,3,4,5]"
      ],
      "metadata": {
        "colab": {
          "base_uri": "https://localhost:8080/",
          "height": 0
        },
        "id": "M1j-WHEhv7dI",
        "outputId": "2ea94c72-b52e-4576-cc37-188ce6b2d475"
      },
      "id": "M1j-WHEhv7dI",
      "execution_count": 20,
      "outputs": [
        {
          "output_type": "stream",
          "name": "stdout",
          "text": [
            "[0.40297821235089076, 0.41363032516979037, 0.4379196308908008, 0.4601277779965174, 0.4655427932739258]\n"
          ]
        }
      ]
    },
    {
      "cell_type": "code",
      "source": [
        "plt.plot(epoch_list,trainloss_list)\n",
        "plt.plot(epoch_list,validloss_list)\n",
        "plt.xticks(epoch_list)\n",
        "plt.xlabel(\"EPOCHS\")\n",
        "plt.ylabel(\"Losses\")\n",
        "plt.show()"
      ],
      "metadata": {
        "colab": {
          "base_uri": "https://localhost:8080/",
          "height": 279
        },
        "id": "OXrDIgiHv_vk",
        "outputId": "c561b75d-6ca9-4f6a-af7b-9ababedbe062"
      },
      "id": "OXrDIgiHv_vk",
      "execution_count": 21,
      "outputs": [
        {
          "output_type": "display_data",
          "data": {
            "text/plain": [
              "<Figure size 432x288 with 1 Axes>"
            ],
            "image/png": "[encoded data removed]"
          },
          "metadata": {
            "needs_background": "light"
          }
        }
      ]
    }
  ],
  "metadata": {
    "accelerator": "GPU",
    "colab": {
      "provenance": [],
      "machine_shape": "hm"
    },
    "gpuClass": "standard",
    "kernelspec": {
      "display_name": "Python 3",
      "language": "python",
      "name": "python3"
    },
    "language_info": {
      "codemirror_mode": {
        "name": "ipython",
        "version": 3
      },
      "file_extension": ".py",
      "mimetype": "text/x-python",
      "name": "python",
      "nbconvert_exporter": "python",
      "pygments_lexer": "ipython3",
      "version": "3.8.5"
    },
    "widgets": {
      "application/vnd.jupyter.widget-state+json": {
        "74ccbf3df15a4492938aca90bad1c3e4": {
          "model_module": "@jupyter-widgets/controls",
          "model_name": "HBoxModel",
          "model_module_version": "1.5.0",
          "state": {
            "_dom_classes": [],
            "_model_module": "@jupyter-widgets/controls",
            "_model_module_version": "1.5.0",
            "_model_name": "HBoxModel",
            "_view_count": null,
            "_view_module": "@jupyter-widgets/controls",
            "_view_module_version": "1.5.0",
            "_view_name": "HBoxView",
            "box_style": "",
            "children": [
              "IPY_MODEL_12c224c897f747ab91bb36a01647f4d7",
              "IPY_MODEL_d3edea7c7ccf474a87b1f0fc5e54f69f",
              "IPY_MODEL_d61340e01334439a847790f111d3258f"
            ],
            "layout": "IPY_MODEL_f56b0ea165c3450187bfb719a8dbd0cf"
          }
        },
        "12c224c897f747ab91bb36a01647f4d7": {
          "model_module": "@jupyter-widgets/controls",
          "model_name": "HTMLModel",
          "model_module_version": "1.5.0",
          "state": {
            "_dom_classes": [],
            "_model_module": "@jupyter-widgets/controls",
            "_model_module_version": "1.5.0",
            "_model_name": "HTMLModel",
            "_view_count": null,
            "_view_module": "@jupyter-widgets/controls",
            "_view_module_version": "1.5.0",
            "_view_name": "HTMLView",
            "description": "",
            "description_tooltip": null,
            "layout": "IPY_MODEL_6acc62b9c26b494f9830579cafa06c54",
            "placeholder": "​",
            "style": "IPY_MODEL_88ab5a5ef82847cf8347fb42434b0ce8",
            "value": "100%"
          }
        },
        "d3edea7c7ccf474a87b1f0fc5e54f69f": {
          "model_module": "@jupyter-widgets/controls",
          "model_name": "FloatProgressModel",
          "model_module_version": "1.5.0",
          "state": {
            "_dom_classes": [],
            "_model_module": "@jupyter-widgets/controls",
            "_model_module_version": "1.5.0",
            "_model_name": "FloatProgressModel",
            "_view_count": null,
            "_view_module": "@jupyter-widgets/controls",
            "_view_module_version": "1.5.0",
            "_view_name": "ProgressView",
            "bar_style": "success",
            "description": "",
            "description_tooltip": null,
            "layout": "IPY_MODEL_88475d36bc394b929dced66764f703f9",
            "max": 178793939,
            "min": 0,
            "orientation": "horizontal",
            "style": "IPY_MODEL_a49cb0e8e3d840a294b7cf8c35256717",
            "value": 178793939
          }
        },
        "d61340e01334439a847790f111d3258f": {
          "model_module": "@jupyter-widgets/controls",
          "model_name": "HTMLModel",
          "model_module_version": "1.5.0",
          "state": {
            "_dom_classes": [],
            "_model_module": "@jupyter-widgets/controls",
            "_model_module_version": "1.5.0",
            "_model_name": "HTMLModel",
            "_view_count": null,
            "_view_module": "@jupyter-widgets/controls",
            "_view_module_version": "1.5.0",
            "_view_name": "HTMLView",
            "description": "",
            "description_tooltip": null,
            "layout": "IPY_MODEL_301b108ea9e14bdfaf467e1ddaca9948",
            "placeholder": "​",
            "style": "IPY_MODEL_f2165de54c0741e5b0626bd5c8c3ca85",
            "value": " 171M/171M [00:00&lt;00:00, 284MB/s]"
          }
        },
        "f56b0ea165c3450187bfb719a8dbd0cf": {
          "model_module": "@jupyter-widgets/base",
          "model_name": "LayoutModel",
          "model_module_version": "1.2.0",
          "state": {
            "_model_module": "@jupyter-widgets/base",
            "_model_module_version": "1.2.0",
            "_model_name": "LayoutModel",
            "_view_count": null,
            "_view_module": "@jupyter-widgets/base",
            "_view_module_version": "1.2.0",
            "_view_name": "LayoutView",
            "align_content": null,
            "align_items": null,
            "align_self": null,
            "border": null,
            "bottom": null,
            "display": null,
            "flex": null,
            "flex_flow": null,
            "grid_area": null,
            "grid_auto_columns": null,
            "grid_auto_flow": null,
            "grid_auto_rows": null,
            "grid_column": null,
            "grid_gap": null,
            "grid_row": null,
            "grid_template_areas": null,
            "grid_template_columns": null,
            "grid_template_rows": null,
            "height": null,
            "justify_content": null,
            "justify_items": null,
            "left": null,
            "margin": null,
            "max_height": null,
            "max_width": null,
            "min_height": null,
            "min_width": null,
            "object_fit": null,
            "object_position": null,
            "order": null,
            "overflow": null,
            "overflow_x": null,
            "overflow_y": null,
            "padding": null,
            "right": null,
            "top": null,
            "visibility": null,
            "width": null
          }
        },
        "6acc62b9c26b494f9830579cafa06c54": {
          "model_module": "@jupyter-widgets/base",
          "model_name": "LayoutModel",
          "model_module_version": "1.2.0",
          "state": {
            "_model_module": "@jupyter-widgets/base",
            "_model_module_version": "1.2.0",
            "_model_name": "LayoutModel",
            "_view_count": null,
            "_view_module": "@jupyter-widgets/base",
            "_view_module_version": "1.2.0",
            "_view_name": "LayoutView",
            "align_content": null,
            "align_items": null,
            "align_self": null,
            "border": null,
            "bottom": null,
            "display": null,
            "flex": null,
            "flex_flow": null,
            "grid_area": null,
            "grid_auto_columns": null,
            "grid_auto_flow": null,
            "grid_auto_rows": null,
            "grid_column": null,
            "grid_gap": null,
            "grid_row": null,
            "grid_template_areas": null,
            "grid_template_columns": null,
            "grid_template_rows": null,
            "height": null,
            "justify_content": null,
            "justify_items": null,
            "left": null,
            "margin": null,
            "max_height": null,
            "max_width": null,
            "min_height": null,
            "min_width": null,
            "object_fit": null,
            "object_position": null,
            "order": null,
            "overflow": null,
            "overflow_x": null,
            "overflow_y": null,
            "padding": null,
            "right": null,
            "top": null,
            "visibility": null,
            "width": null
          }
        },
        "88ab5a5ef82847cf8347fb42434b0ce8": {
          "model_module": "@jupyter-widgets/controls",
          "model_name": "DescriptionStyleModel",
          "model_module_version": "1.5.0",
          "state": {
            "_model_module": "@jupyter-widgets/controls",
            "_model_module_version": "1.5.0",
            "_model_name": "DescriptionStyleModel",
            "_view_count": null,
            "_view_module": "@jupyter-widgets/base",
            "_view_module_version": "1.2.0",
            "_view_name": "StyleView",
            "description_width": ""
          }
        },
        "88475d36bc394b929dced66764f703f9": {
          "model_module": "@jupyter-widgets/base",
          "model_name": "LayoutModel",
          "model_module_version": "1.2.0",
          "state": {
            "_model_module": "@jupyter-widgets/base",
            "_model_module_version": "1.2.0",
            "_model_name": "LayoutModel",
            "_view_count": null,
            "_view_module": "@jupyter-widgets/base",
            "_view_module_version": "1.2.0",
            "_view_name": "LayoutView",
            "align_content": null,
            "align_items": null,
            "align_self": null,
            "border": null,
            "bottom": null,
            "display": null,
            "flex": null,
            "flex_flow": null,
            "grid_area": null,
            "grid_auto_columns": null,
            "grid_auto_flow": null,
            "grid_auto_rows": null,
            "grid_column": null,
            "grid_gap": null,
            "grid_row": null,
            "grid_template_areas": null,
            "grid_template_columns": null,
            "grid_template_rows": null,
            "height": null,
            "justify_content": null,
            "justify_items": null,
            "left": null,
            "margin": null,
            "max_height": null,
            "max_width": null,
            "min_height": null,
            "min_width": null,
            "object_fit": null,
            "object_position": null,
            "order": null,
            "overflow": null,
            "overflow_x": null,
            "overflow_y": null,
            "padding": null,
            "right": null,
            "top": null,
            "visibility": null,
            "width": null
          }
        },
        "a49cb0e8e3d840a294b7cf8c35256717": {
          "model_module": "@jupyter-widgets/controls",
          "model_name": "ProgressStyleModel",
          "model_module_version": "1.5.0",
          "state": {
            "_model_module": "@jupyter-widgets/controls",
            "_model_module_version": "1.5.0",
            "_model_name": "ProgressStyleModel",
            "_view_count": null,
            "_view_module": "@jupyter-widgets/base",
            "_view_module_version": "1.2.0",
            "_view_name": "StyleView",
            "bar_color": null,
            "description_width": ""
          }
        },
        "301b108ea9e14bdfaf467e1ddaca9948": {
          "model_module": "@jupyter-widgets/base",
          "model_name": "LayoutModel",
          "model_module_version": "1.2.0",
          "state": {
            "_model_module": "@jupyter-widgets/base",
            "_model_module_version": "1.2.0",
            "_model_name": "LayoutModel",
            "_view_count": null,
            "_view_module": "@jupyter-widgets/base",
            "_view_module_version": "1.2.0",
            "_view_name": "LayoutView",
            "align_content": null,
            "align_items": null,
            "align_self": null,
            "border": null,
            "bottom": null,
            "display": null,
            "flex": null,
            "flex_flow": null,
            "grid_area": null,
            "grid_auto_columns": null,
            "grid_auto_flow": null,
            "grid_auto_rows": null,
            "grid_column": null,
            "grid_gap": null,
            "grid_row": null,
            "grid_template_areas": null,
            "grid_template_columns": null,
            "grid_template_rows": null,
            "height": null,
            "justify_content": null,
            "justify_items": null,
            "left": null,
            "margin": null,
            "max_height": null,
            "max_width": null,
            "min_height": null,
            "min_width": null,
            "object_fit": null,
            "object_position": null,
            "order": null,
            "overflow": null,
            "overflow_x": null,
            "overflow_y": null,
            "padding": null,
            "right": null,
            "top": null,
            "visibility": null,
            "width": null
          }
        },
        "f2165de54c0741e5b0626bd5c8c3ca85": {
          "model_module": "@jupyter-widgets/controls",
          "model_name": "DescriptionStyleModel",
          "model_module_version": "1.5.0",
          "state": {
            "_model_module": "@jupyter-widgets/controls",
            "_model_module_version": "1.5.0",
            "_model_name": "DescriptionStyleModel",
            "_view_count": null,
            "_view_module": "@jupyter-widgets/base",
            "_view_module_version": "1.2.0",
            "_view_name": "StyleView",
            "description_width": ""
          }
        }
      }
    }
  },
  "nbformat": 4,
  "nbformat_minor": 5
}